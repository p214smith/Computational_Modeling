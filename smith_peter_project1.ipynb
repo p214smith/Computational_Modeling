{
 "cells": [
  {
   "cell_type": "markdown",
   "id": "17248395",
   "metadata": {},
   "source": [
    "# Project 1"
   ]
  },
  {
   "cell_type": "code",
   "execution_count": 1,
   "id": "9e219bd1",
   "metadata": {},
   "outputs": [
    {
     "data": {
      "text/html": [
       "<div id=\"glowscript\" class=\"glowscript\"></div>"
      ],
      "text/plain": [
       "<IPython.core.display.HTML object>"
      ]
     },
     "metadata": {},
     "output_type": "display_data"
    },
    {
     "data": {
      "application/javascript": [
       "if (typeof Jupyter !== \"undefined\") { window.__context = { glowscript_container: $(\"#glowscript\").removeAttr(\"id\")};}else{ element.textContent = ' ';}"
      ],
      "text/plain": [
       "<IPython.core.display.Javascript object>"
      ]
     },
     "metadata": {},
     "output_type": "display_data"
    }
   ],
   "source": [
    "from vpython import *"
   ]
  },
  {
   "cell_type": "markdown",
   "id": "c899ff11",
   "metadata": {},
   "source": [
    "## Ball Falling"
   ]
  },
  {
   "cell_type": "code",
   "execution_count": 2,
   "id": "347e401b",
   "metadata": {},
   "outputs": [
    {
     "data": {
      "text/html": [
       "<div id=\"glowscript\" class=\"glowscript\"></div>"
      ],
      "text/plain": [
       "<IPython.core.display.HTML object>"
      ]
     },
     "metadata": {},
     "output_type": "display_data"
    },
    {
     "data": {
      "application/javascript": [
       "if (typeof Jupyter !== \"undefined\") { window.__context = { glowscript_container: $(\"#glowscript\").removeAttr(\"id\")};}else{ element.textContent = ' ';}"
      ],
      "text/plain": [
       "<IPython.core.display.Javascript object>"
      ]
     },
     "metadata": {},
     "output_type": "display_data"
    },
    {
     "data": {
      "application/javascript": [
       "if (typeof Jupyter !== \"undefined\") {require.undef(\"nbextensions/vpython_libraries/glow.min\");}else{element.textContent = ' ';}"
      ],
      "text/plain": [
       "<IPython.core.display.Javascript object>"
      ]
     },
     "metadata": {},
     "output_type": "display_data"
    },
    {
     "data": {
      "application/javascript": [
       "if (typeof Jupyter !== \"undefined\") {require.undef(\"nbextensions/vpython_libraries/glowcomm\");}else{element.textContent = ' ';}"
      ],
      "text/plain": [
       "<IPython.core.display.Javascript object>"
      ]
     },
     "metadata": {},
     "output_type": "display_data"
    },
    {
     "data": {
      "application/javascript": [
       "if (typeof Jupyter !== \"undefined\") {require.undef(\"nbextensions/vpython_libraries/jquery-ui.custom.min\");}else{element.textContent = ' ';}"
      ],
      "text/plain": [
       "<IPython.core.display.Javascript object>"
      ]
     },
     "metadata": {},
     "output_type": "display_data"
    },
    {
     "data": {
      "application/javascript": [
       "if (typeof Jupyter !== \"undefined\") {require([\"nbextensions/vpython_libraries/glow.min\"], function(){console.log(\"GLOW LOADED\");});}else{element.textContent = ' ';}"
      ],
      "text/plain": [
       "<IPython.core.display.Javascript object>"
      ]
     },
     "metadata": {},
     "output_type": "display_data"
    },
    {
     "data": {
      "application/javascript": [
       "if (typeof Jupyter !== \"undefined\") {require([\"nbextensions/vpython_libraries/glowcomm\"], function(){console.log(\"GLOWCOMM LOADED\");});}else{element.textContent = ' ';}"
      ],
      "text/plain": [
       "<IPython.core.display.Javascript object>"
      ]
     },
     "metadata": {},
     "output_type": "display_data"
    },
    {
     "data": {
      "application/javascript": [
       "if (typeof Jupyter !== \"undefined\") {require([\"nbextensions/vpython_libraries/jquery-ui.custom.min\"], function(){console.log(\"JQUERY LOADED\");});}else{element.textContent = ' ';}"
      ],
      "text/plain": [
       "<IPython.core.display.Javascript object>"
      ]
     },
     "metadata": {},
     "output_type": "display_data"
    },
    {
     "name": "stdout",
     "output_type": "stream",
     "text": [
      "Time = 3.0000000000019065 seconds.\n",
      "Ball traveled 44.101469999991195 meters.\n"
     ]
    }
   ],
   "source": [
    "scene = canvas()\n",
    "ball = sphere(pos=vector(0,50,0), radius=3,color=color.cyan,make_trail = False)\n",
    "walltop = box(pos=vector(0,50,0), size=vector(12,0.2,12), color=color.green)\n",
    "wallBottom = box(pos=vector(0,-50,0), size=vector(12,0.2,12), color=color.green)\n",
    "wallBa = box(pos=vector(0,0,-6), size=vector(12,100,0.2), color=color.red)\n",
    "ball.velocity = vector(0,0,0)\n",
    "deltat = 0.0001\n",
    "t = 0\n",
    "g = -9.8\n",
    "scene.autoscale = True\n",
    "\n",
    "while t <= 3:\n",
    "    rate(10000)\n",
    "    if ball.pos.y <= -50 : \n",
    "        ball.velocity.y = -ball.velocity.y\n",
    "    t = t + deltat\n",
    "    ball.velocity.y = ball.velocity.y + g*deltat\n",
    "    ball.pos= ball.pos + ball.velocity*deltat\n",
    "print(\"Time = \" + str(t) + \" seconds.\")\n",
    "print(\"Ball traveled \" + str(50 - ball.pos.y) + \" meters.\" )\n"
   ]
  },
  {
   "cell_type": "markdown",
   "id": "52a50ea1",
   "metadata": {},
   "source": [
    "For the ball dropping I calculated the distance the ball traveled in continuous time and compared it to the distance traveled in discrete time. The calculated travel distance in 3 seconds is 44.1 meters and the simulated distance traveled is 44.101 meters."
   ]
  },
  {
   "cell_type": "markdown",
   "id": "4be3cbaa",
   "metadata": {},
   "source": [
    "## Bouncing Ball"
   ]
  },
  {
   "cell_type": "code",
   "execution_count": 3,
   "id": "f295bc09",
   "metadata": {},
   "outputs": [
    {
     "data": {
      "text/html": [
       "<div id=\"glowscript\" class=\"glowscript\"></div>"
      ],
      "text/plain": [
       "<IPython.core.display.HTML object>"
      ]
     },
     "metadata": {},
     "output_type": "display_data"
    },
    {
     "data": {
      "application/javascript": [
       "if (typeof Jupyter !== \"undefined\") { window.__context = { glowscript_container: $(\"#glowscript\").removeAttr(\"id\")};}else{ element.textContent = ' ';}"
      ],
      "text/plain": [
       "<IPython.core.display.Javascript object>"
      ]
     },
     "metadata": {},
     "output_type": "display_data"
    },
    {
     "name": "stdout",
     "output_type": "stream",
     "text": [
      "Time = 20.00000000000146 seconds.\n",
      "Ball position is 81.64998999999986 meters.\n"
     ]
    }
   ],
   "source": [
    "scene = canvas()\n",
    "ball = sphere(pos=vector(0,50,0), radius=1.5,color=color.cyan,make_trail = False)\n",
    "walltop = box(pos=vector(0,50,0), size=vector(12,0.2,12), color=color.green)\n",
    "wallBottom = box(pos=vector(0,-50,0), size=vector(12,0.2,12), color=color.green)\n",
    "wall75m = box(pos=vector(0,25,0), size=vector(12,0.2,0), color=color.green)\n",
    "wall50m = box(pos=vector(0,0,0), size=vector(12,0.2,0), color=color.green)\n",
    "wall25m = box(pos=vector(0,-25,0), size=vector(12,0.2,0), color=color.green)\n",
    "wallBa = box(pos=vector(0,0,-6), size=vector(12,100,0.2), color=color.red)\n",
    "ball.velocity = vector(0,0,0)\n",
    "deltat = 0.001\n",
    "t = 0\n",
    "g = -9.8\n",
    "scene.autoscale = True\n",
    "\n",
    "while t <= 20:\n",
    "    rate(1000)\n",
    "    if ball.pos.y <= -50 : \n",
    "        ball.velocity.y = -ball.velocity.y\n",
    "    t = t + deltat\n",
    "    ball.velocity.y = ball.velocity.y + g*deltat\n",
    "    ball.pos= ball.pos + ball.velocity*deltat\n",
    "print(\"Time = \" + str(t) + \" seconds.\")\n",
    "print(\"Ball position is \" + str(50 + ball.pos.y) + \" meters.\" )"
   ]
  },
  {
   "cell_type": "markdown",
   "id": "d8a84a34",
   "metadata": {},
   "source": [
    "For this simulation the first assumtion I made is that the collisions at the bottom is elastic. I also am assuming that there is no air resistance. I positioned walls at the top and bottom of the simulation as well as walls every 25 meters to add some scale to the simulation."
   ]
  },
  {
   "cell_type": "markdown",
   "id": "4d324998",
   "metadata": {},
   "source": [
    "## Ball Shot From Cannon"
   ]
  },
  {
   "cell_type": "markdown",
   "id": "8e6084ae",
   "metadata": {},
   "source": [
    "### Angle: 45 degrees"
   ]
  },
  {
   "cell_type": "code",
   "execution_count": 4,
   "id": "cb260771",
   "metadata": {},
   "outputs": [
    {
     "data": {
      "text/html": [
       "<div id=\"glowscript\" class=\"glowscript\"></div>"
      ],
      "text/plain": [
       "<IPython.core.display.HTML object>"
      ]
     },
     "metadata": {},
     "output_type": "display_data"
    },
    {
     "data": {
      "application/javascript": [
       "if (typeof Jupyter !== \"undefined\") { window.__context = { glowscript_container: $(\"#glowscript\").removeAttr(\"id\")};}else{ element.textContent = ' ';}"
      ],
      "text/plain": [
       "<IPython.core.display.Javascript object>"
      ]
     },
     "metadata": {},
     "output_type": "display_data"
    },
    {
     "name": "stdout",
     "output_type": "stream",
     "text": [
      "Cannon angle set at 45 degrees.\n",
      "Time traveled is 6.134000000000383 seconds.\n",
      "Ball position is 184.30891599999222 meters.\n",
      "Max height is 46.06267420000482 meters.\n"
     ]
    }
   ],
   "source": [
    "scene = canvas()\n",
    "cannon = cylinder(pos=vector(-100,-50,0),axis=vector(5,5,0), radius=1.5,color = color.red)\n",
    "ball = sphere(pos=vector(-100,-49.99999,0), radius=1.5,color=color.black,make_trail = True)\n",
    "walltop = box(pos=vector(0,50,0), size=vector(200,0.2,12), color=color.green)\n",
    "wallBottom = box(pos=vector(0,-50,0), size=vector(200,0.2,12), color=color.green)\n",
    "wall75m = box(pos=vector(0,25,0), size=vector(200,0.2,0), color=color.green)\n",
    "wall50m = box(pos=vector(0,0,0), size=vector(200,0.2,0), color=color.green)\n",
    "wall25m = box(pos=vector(0,-25,0), size=vector(200,0.2,0), color=color.green)\n",
    "wallBa = box(pos=vector(0,0,-6), size=vector(200,100,0.2), color=color.cyan)\n",
    "ball.velocity = vector(30.052,30.052,0)\n",
    "deltat = 0.001\n",
    "t = 0\n",
    "g = -9.8\n",
    "scene.autoscale = True\n",
    "travelt = 0\n",
    "maxH = ball.pos.y\n",
    "while t <= 20:\n",
    "    rate(1000)\n",
    "    if ball.pos.y <= -50 : \n",
    "        ball.velocity = vector(0,0,0)\n",
    "        t = 20\n",
    "    if ball.pos.y > maxH :\n",
    "        maxH = ball.pos.y\n",
    "    travelt = travelt + deltat\n",
    "    t = t + deltat\n",
    "    ball.velocity.y = ball.velocity.y + g*deltat\n",
    "    ball.pos= ball.pos + ball.velocity*deltat\n",
    "print(\"Cannon angle set at 45 degrees.\")\n",
    "print(\"Time traveled is \" + str(travelt) + \" seconds.\")\n",
    "print(\"Ball position is \" + str(100 + ball.pos.x) + \" meters.\" )\n",
    "print(\"Max height is \" + str(50 + maxH) + \" meters.\")"
   ]
  },
  {
   "cell_type": "markdown",
   "id": "fdaf22f3",
   "metadata": {},
   "source": [
    "For all cannon tests I will be using a initial velocity of 42.5 m/s. The first test was at 45 degrees that should give me maximum distance traveled. To verify that my simulation is running correctly I used the formula travel time = Vsin(theta)/4.9. I calculated a travel time of 6.133 seconds and my simulation got a travel time of 6.134 seconds. To get maximum height I used Vsin(theta)^2/2g. My calculated height was 46.07m and the simulated height of 46.06m. For all other cannon simulations I will show calculated travel time and height versus simulated."
   ]
  },
  {
   "cell_type": "markdown",
   "id": "e21cbcfa",
   "metadata": {},
   "source": [
    "### Angle: 60 degrees"
   ]
  },
  {
   "cell_type": "code",
   "execution_count": 5,
   "id": "c216e59d",
   "metadata": {},
   "outputs": [
    {
     "data": {
      "text/html": [
       "<div id=\"glowscript\" class=\"glowscript\"></div>"
      ],
      "text/plain": [
       "<IPython.core.display.HTML object>"
      ]
     },
     "metadata": {},
     "output_type": "display_data"
    },
    {
     "data": {
      "application/javascript": [
       "if (typeof Jupyter !== \"undefined\") { window.__context = { glowscript_container: $(\"#glowscript\").removeAttr(\"id\")};}else{ element.textContent = ' ';}"
      ],
      "text/plain": [
       "<IPython.core.display.Javascript object>"
      ]
     },
     "metadata": {},
     "output_type": "display_data"
    },
    {
     "name": "stdout",
     "output_type": "stream",
     "text": [
      "Cannon angle set at 60 degrees.\n",
      "Time traveled is 7.513000000000844 seconds.\n",
      "Ball position is 159.62999999999485 meters.\n",
      "Max height is 69.11303920000844 meters.\n"
     ]
    }
   ],
   "source": [
    "scene = canvas()\n",
    "cannon = cylinder(pos=vector(-100,-50,0),axis=vector(3.54,6.124,0), radius=1.5,color = color.red)\n",
    "ball = sphere(pos=vector(-100,-49.99999,0), radius=1.5,color=color.black,make_trail = True)\n",
    "walltop = box(pos=vector(0,50,0), size=vector(200,0.2,12), color=color.green)\n",
    "wallBottom = box(pos=vector(0,-50,0), size=vector(200,0.2,12), color=color.green)\n",
    "wall75m = box(pos=vector(0,25,0), size=vector(200,0.2,0), color=color.green)\n",
    "wall50m = box(pos=vector(0,0,0), size=vector(200,0.2,0), color=color.green)\n",
    "wall25m = box(pos=vector(0,-25,0), size=vector(200,0.2,0), color=color.green)\n",
    "wallBa = box(pos=vector(0,0,-6), size=vector(200,100,0.2), color=color.cyan)\n",
    "ball.velocity = vector(21.25,36.81,0)\n",
    "deltat = 0.001\n",
    "t = 0\n",
    "g = -9.8\n",
    "scene.autoscale = True\n",
    "travelt = 0\n",
    "maxH = ball.pos.y\n",
    "while t <= 20:\n",
    "    rate(1000)\n",
    "    if ball.pos.y <= -50 : \n",
    "        ball.velocity = vector(0,0,0)\n",
    "        t = 20\n",
    "    if ball.pos.y > maxH :\n",
    "        maxH = ball.pos.y\n",
    "    travelt = travelt + deltat\n",
    "    t = t + deltat\n",
    "    ball.velocity.y = ball.velocity.y + g*deltat\n",
    "    ball.pos= ball.pos + ball.velocity*deltat\n",
    "print(\"Cannon angle set at 60 degrees.\")\n",
    "print(\"Time traveled is \" + str(travelt) + \" seconds.\")\n",
    "print(\"Ball position is \" + str(100 + ball.pos.x) + \" meters.\" )\n",
    "print(\"Max height is \" + str(50 + maxH) + \" meters.\")"
   ]
  },
  {
   "cell_type": "markdown",
   "id": "2819a641",
   "metadata": {},
   "source": [
    "Calculated travel time = 7.51 seconds.\n",
    "Simulated travel time = 7.51 seconds.\n",
    "Calculated max height = 69.12 meters.\n",
    "Simulated max height = 69.11 meters."
   ]
  },
  {
   "cell_type": "markdown",
   "id": "0a98f294",
   "metadata": {},
   "source": [
    "### Angle: 75 degrees"
   ]
  },
  {
   "cell_type": "code",
   "execution_count": 6,
   "id": "462c80bb",
   "metadata": {},
   "outputs": [
    {
     "data": {
      "text/html": [
       "<div id=\"glowscript\" class=\"glowscript\"></div>"
      ],
      "text/plain": [
       "<IPython.core.display.HTML object>"
      ]
     },
     "metadata": {},
     "output_type": "display_data"
    },
    {
     "data": {
      "application/javascript": [
       "if (typeof Jupyter !== \"undefined\") { window.__context = { glowscript_container: $(\"#glowscript\").removeAttr(\"id\")};}else{ element.textContent = ' ';}"
      ],
      "text/plain": [
       "<IPython.core.display.Javascript object>"
      ]
     },
     "metadata": {},
     "output_type": "display_data"
    },
    {
     "name": "stdout",
     "output_type": "stream",
     "text": [
      "Cannon angle set at 75 degrees.\n",
      "Time traveled is 8.378000000000796 seconds.\n",
      "Ball position is 92.14699999999229 meters.\n",
      "Max height is 85.96247920001102 meters.\n"
     ]
    }
   ],
   "source": [
    "scene = canvas()\n",
    "cannon = cylinder(pos=vector(-100,-50,0),axis=vector(1.83,6.83,0), radius=1.5,color = color.red)\n",
    "ball = sphere(pos=vector(-100,-49.99999,0), radius=1.5,color=color.black,make_trail = True)\n",
    "walltop = box(pos=vector(0,50,0), size=vector(200,0.2,12), color=color.green)\n",
    "wallBottom = box(pos=vector(0,-50,0), size=vector(200,0.2,12), color=color.green)\n",
    "wall75m = box(pos=vector(0,25,0), size=vector(200,0.2,0), color=color.green)\n",
    "wall50m = box(pos=vector(0,0,0), size=vector(200,0.2,0), color=color.green)\n",
    "wall25m = box(pos=vector(0,-25,0), size=vector(200,0.2,0), color=color.green)\n",
    "wallBa = box(pos=vector(0,0,-6), size=vector(200,100,0.2), color=color.cyan)\n",
    "ball.velocity = vector(11,41.052,0)\n",
    "deltat = 0.001\n",
    "t = 0\n",
    "g = -9.8\n",
    "scene.autoscale = True\n",
    "travelt = 0\n",
    "maxH = ball.pos.y\n",
    "while t <= 20:\n",
    "    rate(1000)\n",
    "    if ball.pos.y <= -50 : \n",
    "        ball.velocity = vector(0,0,0)\n",
    "        t = 20\n",
    "    if ball.pos.y > maxH :\n",
    "        maxH = ball.pos.y\n",
    "    travelt = travelt + deltat\n",
    "    t = t + deltat\n",
    "    ball.velocity.y = ball.velocity.y + g*deltat\n",
    "    ball.pos= ball.pos + ball.velocity*deltat\n",
    "print(\"Cannon angle set at 75 degrees.\")\n",
    "print(\"Time traveled is \" + str(travelt) + \" seconds.\")\n",
    "print(\"Ball position is \" + str(100 + ball.pos.x) + \" meters.\" )\n",
    "print(\"Max height is \" + str(50 + maxH) + \" meters.\")"
   ]
  },
  {
   "cell_type": "markdown",
   "id": "81b03f8a",
   "metadata": {},
   "source": [
    "Calculated travel time = 8.38 seconds.\n",
    "Simulated travel time = 8.37 seconds.\n",
    "Calculated max height = 85.98 meters.\n",
    "Simulated max height = 85.96 meters."
   ]
  },
  {
   "cell_type": "markdown",
   "id": "d73fb08a",
   "metadata": {},
   "source": [
    "### Angle: 30 degrees"
   ]
  },
  {
   "cell_type": "code",
   "execution_count": 7,
   "id": "e6ad08e0",
   "metadata": {},
   "outputs": [
    {
     "data": {
      "text/html": [
       "<div id=\"glowscript\" class=\"glowscript\"></div>"
      ],
      "text/plain": [
       "<IPython.core.display.HTML object>"
      ]
     },
     "metadata": {},
     "output_type": "display_data"
    },
    {
     "data": {
      "application/javascript": [
       "if (typeof Jupyter !== \"undefined\") { window.__context = { glowscript_container: $(\"#glowscript\").removeAttr(\"id\")};}else{ element.textContent = ' ';}"
      ],
      "text/plain": [
       "<IPython.core.display.Javascript object>"
      ]
     },
     "metadata": {},
     "output_type": "display_data"
    },
    {
     "name": "stdout",
     "output_type": "stream",
     "text": [
      "Cannon angle set at 30 degrees.\n",
      "Time traveled is 4.336999999999783 seconds.\n",
      "Ball position is 159.6081600000058 meters.\n",
      "Max height is 23.028289200001236 meters.\n"
     ]
    }
   ],
   "source": [
    "scene = canvas()\n",
    "cannon = cylinder(pos=vector(-100,-50,0),axis=vector(6.124,3.54,0), radius=1.5,color = color.red)\n",
    "ball = sphere(pos=vector(-100,-49.99999,0), radius=1.5,color=color.black,make_trail = True)\n",
    "walltop = box(pos=vector(0,50,0), size=vector(200,0.2,12), color=color.green)\n",
    "wallBottom = box(pos=vector(0,-50,0), size=vector(200,0.2,12), color=color.green)\n",
    "wall75m = box(pos=vector(0,25,0), size=vector(200,0.2,0), color=color.green)\n",
    "wall50m = box(pos=vector(0,0,0), size=vector(200,0.2,0), color=color.green)\n",
    "wall25m = box(pos=vector(0,-25,0), size=vector(200,0.2,0), color=color.green)\n",
    "wallBa = box(pos=vector(0,0,-6), size=vector(200,100,0.2), color=color.cyan)\n",
    "ball.velocity = vector(36.81,21.25,0)\n",
    "deltat = 0.001\n",
    "t = 0\n",
    "g = -9.8\n",
    "scene.autoscale = True\n",
    "travelt = 0\n",
    "maxH = ball.pos.y\n",
    "while t <= 20:\n",
    "    rate(1000)\n",
    "    if ball.pos.y <= -50 : \n",
    "        ball.velocity = vector(0,0,0)\n",
    "        t = 20\n",
    "    if ball.pos.y > maxH :\n",
    "        maxH = ball.pos.y\n",
    "    travelt = travelt + deltat\n",
    "    t = t + deltat\n",
    "    ball.velocity.y = ball.velocity.y + g*deltat\n",
    "    ball.pos= ball.pos + ball.velocity*deltat\n",
    "print(\"Cannon angle set at 30 degrees.\")\n",
    "print(\"Time traveled is \" + str(travelt) + \" seconds.\")\n",
    "print(\"Ball position is \" + str(100 + ball.pos.x) + \" meters.\" )\n",
    "print(\"Max height is \" + str(50 + maxH) + \" meters.\")"
   ]
  },
  {
   "cell_type": "markdown",
   "id": "32dcf83e",
   "metadata": {},
   "source": [
    "Calculated travel time = 4.34 seconds.\n",
    "Simulated travel time = 4.34 seconds.\n",
    "Calculated max height = 23.04 meters.\n",
    "Simulated max height = 23.03 meters."
   ]
  },
  {
   "cell_type": "markdown",
   "id": "c26bc744",
   "metadata": {},
   "source": [
    "### Angle: 15 degrees"
   ]
  },
  {
   "cell_type": "code",
   "execution_count": 8,
   "id": "4106afd0",
   "metadata": {},
   "outputs": [
    {
     "data": {
      "text/html": [
       "<div id=\"glowscript\" class=\"glowscript\"></div>"
      ],
      "text/plain": [
       "<IPython.core.display.HTML object>"
      ]
     },
     "metadata": {},
     "output_type": "display_data"
    },
    {
     "data": {
      "application/javascript": [
       "if (typeof Jupyter !== \"undefined\") { window.__context = { glowscript_container: $(\"#glowscript\").removeAttr(\"id\")};}else{ element.textContent = ' ';}"
      ],
      "text/plain": [
       "<IPython.core.display.Javascript object>"
      ]
     },
     "metadata": {},
     "output_type": "display_data"
    },
    {
     "name": "stdout",
     "output_type": "stream",
     "text": [
      "Cannon angle set at 15 degrees.\n",
      "Time traveled is 2.2449999999998638 seconds.\n",
      "Ball position is 92.12068799999497 meters.\n",
      "Max height is 6.167980599999879 meters.\n"
     ]
    }
   ],
   "source": [
    "scene = canvas()\n",
    "cannon = cylinder(pos=vector(-100,-50,0),axis=vector(6.83,1.83,0), radius=1.5,color = color.red)\n",
    "ball = sphere(pos=vector(-100,-49.99999,0), radius=1.5,color=color.black,make_trail = True)\n",
    "walltop = box(pos=vector(0,50,0), size=vector(200,0.2,12), color=color.green)\n",
    "wallBottom = box(pos=vector(0,-50,0), size=vector(200,0.2,12), color=color.green)\n",
    "wall75m = box(pos=vector(0,25,0), size=vector(200,0.2,0), color=color.green)\n",
    "wall50m = box(pos=vector(0,0,0), size=vector(200,0.2,0), color=color.green)\n",
    "wall25m = box(pos=vector(0,-25,0), size=vector(200,0.2,0), color=color.green)\n",
    "wallBa = box(pos=vector(0,0,-6), size=vector(200,100,0.2), color=color.cyan)\n",
    "ball.velocity = vector(41.052,11,0)\n",
    "deltat = 0.001\n",
    "t = 0\n",
    "g = -9.8\n",
    "scene.autoscale = True\n",
    "travelt = 0\n",
    "maxH = ball.pos.y\n",
    "while t <= 20:\n",
    "    rate(1000)\n",
    "    if ball.pos.y <= -50 : \n",
    "        ball.velocity = vector(0,0,0)\n",
    "        t = 20\n",
    "    if ball.pos.y > maxH :\n",
    "        maxH = ball.pos.y\n",
    "    travelt = travelt + deltat\n",
    "    t = t + deltat\n",
    "    ball.velocity.y = ball.velocity.y + g*deltat\n",
    "    ball.pos= ball.pos + ball.velocity*deltat\n",
    "print(\"Cannon angle set at 15 degrees.\")\n",
    "print(\"Time traveled is \" + str(travelt) + \" seconds.\")\n",
    "print(\"Ball position is \" + str(100 + ball.pos.x) + \" meters.\" )\n",
    "print(\"Max height is \" + str(50 + maxH) + \" meters.\")"
   ]
  },
  {
   "cell_type": "markdown",
   "id": "77e3bf8e",
   "metadata": {},
   "source": [
    "Calculated travel time = 2.24 seconds.\n",
    "Simulated travel time = 2.24 seconds.\n",
    "Calculated max height = 6.17 meters.\n",
    "Simulated max height = 6.17 meters."
   ]
  },
  {
   "cell_type": "markdown",
   "id": "543e2e13",
   "metadata": {},
   "source": [
    "## Falling ball with and without air resistance"
   ]
  },
  {
   "cell_type": "markdown",
   "id": "b7f6e2f8",
   "metadata": {},
   "source": [
    "Source: https://www.grc.nasa.gov/www/k-12/VirtualAero/BottleRocket/airplane/termv.html\n",
    "To calculate air resistance I used the formula D = Cd * r * V ^2 * A / 2. Where D is drag, Cd is coefficient of drag, r is air density, V is velocity, A is area of Sphere. To calculate the terminal velocity I used the formula V = sqrt ( (2 * W) / (Cd * r * A) ). For this simulation I used an air density of 1.2 kg/m^3. The coefficient of drag I used was 0.07. The assumptions made about the sphere are that the weight is 1 kg, it has a radius of 1 m."
   ]
  },
  {
   "cell_type": "markdown",
   "id": "c8611e31",
   "metadata": {},
   "source": [
    "The function below is used to handle all ball falling simulations. The function takes a height variable and a boolean to determine if the simulation need air or not."
   ]
  },
  {
   "cell_type": "code",
   "execution_count": 9,
   "id": "270a7396",
   "metadata": {},
   "outputs": [],
   "source": [
    "def falling_ball(height, air):\n",
    "\n",
    "    scene = canvas()\n",
    "    ball = sphere(pos=vector(0,height/2,0), radius=1,color=color.cyan,make_trail = False)\n",
    "    walltop = box(pos=vector(0,height/2,0), size=vector(12,0.2,12), color=color.green)\n",
    "    wallBottom = box(pos=vector(0,-(height/2),0), size=vector(12,0.2,12), color=color.green)\n",
    "    wallBa = box(pos=vector(0,0,-6), size=vector(12,height,0.2), color=color.red)\n",
    "    ball.velocity = vector(0,0,0)\n",
    "    deltat = 0.001\n",
    "    t = 0\n",
    "    cD = 0.07\n",
    "    density = 1.2\n",
    "    area = 3.14186\n",
    "    g = -9.8\n",
    "    e = 2.718281828459045\n",
    "    scene.autoscale = True\n",
    "    maxV = 0\n",
    "    travelT = 0\n",
    "    while t <= 100:\n",
    "        rate(1000)\n",
    "        if ball.velocity.y < maxV:\n",
    "            maxV = ball.velocity.y\n",
    "        if ball.pos.y <= -(height/2) : \n",
    "            ball.velocity = vector(0,0,0)\n",
    "            t = 100\n",
    "        if air == False:\n",
    "            t = t + deltat\n",
    "            travelT = travelT + deltat\n",
    "            ball.velocity.y = ball.velocity.y + g*deltat\n",
    "            ball.pos= ball.pos + ball.velocity*deltat\n",
    "        else:\n",
    "            t = t+ deltat\n",
    "            travelT = travelT + deltat\n",
    "            drag = 0.5 * density * ball.velocity.y * ball.velocity.y * cD * area\n",
    "            accel = (g + drag) * deltat\n",
    "            ball.velocity.y = ball.velocity.y + accel\n",
    "            ball.pos= ball.pos + ball.velocity*deltat\n",
    "        \n",
    "    print(\"Time = \" + str(travelT) + \" seconds.\")\n",
    "    print(\"Maximum Velocity \" + str(-maxV) + \" meters/second.\" )\n"
   ]
  },
  {
   "cell_type": "markdown",
   "id": "cc7ae9f2",
   "metadata": {},
   "source": [
    "### 1 meter drop with no air."
   ]
  },
  {
   "cell_type": "code",
   "execution_count": 10,
   "id": "3908f3b6",
   "metadata": {},
   "outputs": [
    {
     "data": {
      "text/html": [
       "<div id=\"glowscript\" class=\"glowscript\"></div>"
      ],
      "text/plain": [
       "<IPython.core.display.HTML object>"
      ]
     },
     "metadata": {},
     "output_type": "display_data"
    },
    {
     "data": {
      "application/javascript": [
       "if (typeof Jupyter !== \"undefined\") { window.__context = { glowscript_container: $(\"#glowscript\").removeAttr(\"id\")};}else{ element.textContent = ' ';}"
      ],
      "text/plain": [
       "<IPython.core.display.Javascript object>"
      ]
     },
     "metadata": {},
     "output_type": "display_data"
    },
    {
     "name": "stdout",
     "output_type": "stream",
     "text": [
      "Time = 0.45300000000000035 seconds.\n",
      "Maximum Velocity 4.429599999999976 meters/second.\n"
     ]
    }
   ],
   "source": [
    "falling_ball(1,False)"
   ]
  },
  {
   "cell_type": "markdown",
   "id": "07008e35",
   "metadata": {},
   "source": [
    "### 2 meter drop with no air."
   ]
  },
  {
   "cell_type": "code",
   "execution_count": 11,
   "id": "c3744bf4",
   "metadata": {},
   "outputs": [
    {
     "data": {
      "text/html": [
       "<div id=\"glowscript\" class=\"glowscript\"></div>"
      ],
      "text/plain": [
       "<IPython.core.display.HTML object>"
      ]
     },
     "metadata": {},
     "output_type": "display_data"
    },
    {
     "data": {
      "application/javascript": [
       "if (typeof Jupyter !== \"undefined\") { window.__context = { glowscript_container: $(\"#glowscript\").removeAttr(\"id\")};}else{ element.textContent = ' ';}"
      ],
      "text/plain": [
       "<IPython.core.display.Javascript object>"
      ]
     },
     "metadata": {},
     "output_type": "display_data"
    },
    {
     "name": "stdout",
     "output_type": "stream",
     "text": [
      "Time = 0.6400000000000005 seconds.\n",
      "Maximum Velocity 6.262200000000023 meters/second.\n"
     ]
    }
   ],
   "source": [
    "falling_ball(2,False)"
   ]
  },
  {
   "cell_type": "markdown",
   "id": "2ce1c80b",
   "metadata": {},
   "source": [
    "### 25 meter drop with no air."
   ]
  },
  {
   "cell_type": "code",
   "execution_count": 12,
   "id": "20c6065b",
   "metadata": {},
   "outputs": [
    {
     "data": {
      "text/html": [
       "<div id=\"glowscript\" class=\"glowscript\"></div>"
      ],
      "text/plain": [
       "<IPython.core.display.HTML object>"
      ]
     },
     "metadata": {},
     "output_type": "display_data"
    },
    {
     "data": {
      "application/javascript": [
       "if (typeof Jupyter !== \"undefined\") { window.__context = { glowscript_container: $(\"#glowscript\").removeAttr(\"id\")};}else{ element.textContent = ' ';}"
      ],
      "text/plain": [
       "<IPython.core.display.Javascript object>"
      ]
     },
     "metadata": {},
     "output_type": "display_data"
    },
    {
     "name": "stdout",
     "output_type": "stream",
     "text": [
      "Time = 2.259999999999862 seconds.\n",
      "Maximum Velocity 22.13819999999932 meters/second.\n"
     ]
    }
   ],
   "source": [
    "falling_ball(25,False)"
   ]
  },
  {
   "cell_type": "markdown",
   "id": "b768937f",
   "metadata": {},
   "source": [
    "### 50 meter drop with no air."
   ]
  },
  {
   "cell_type": "code",
   "execution_count": 13,
   "id": "9f105a2a",
   "metadata": {},
   "outputs": [
    {
     "data": {
      "text/html": [
       "<div id=\"glowscript\" class=\"glowscript\"></div>"
      ],
      "text/plain": [
       "<IPython.core.display.HTML object>"
      ]
     },
     "metadata": {},
     "output_type": "display_data"
    },
    {
     "data": {
      "application/javascript": [
       "if (typeof Jupyter !== \"undefined\") { window.__context = { glowscript_container: $(\"#glowscript\").removeAttr(\"id\")};}else{ element.textContent = ' ';}"
      ],
      "text/plain": [
       "<IPython.core.display.Javascript object>"
      ]
     },
     "metadata": {},
     "output_type": "display_data"
    },
    {
     "name": "stdout",
     "output_type": "stream",
     "text": [
      "Time = 3.194999999999759 seconds.\n",
      "Maximum Velocity 31.301199999997895 meters/second.\n"
     ]
    }
   ],
   "source": [
    "falling_ball(50,False)"
   ]
  },
  {
   "cell_type": "markdown",
   "id": "80b134fd",
   "metadata": {},
   "source": [
    "### 75 meter drop with no air."
   ]
  },
  {
   "cell_type": "code",
   "execution_count": 14,
   "id": "275d5e6d",
   "metadata": {},
   "outputs": [
    {
     "data": {
      "text/html": [
       "<div id=\"glowscript\" class=\"glowscript\"></div>"
      ],
      "text/plain": [
       "<IPython.core.display.HTML object>"
      ]
     },
     "metadata": {},
     "output_type": "display_data"
    },
    {
     "data": {
      "application/javascript": [
       "if (typeof Jupyter !== \"undefined\") { window.__context = { glowscript_container: $(\"#glowscript\").removeAttr(\"id\")};}else{ element.textContent = ' ';}"
      ],
      "text/plain": [
       "<IPython.core.display.Javascript object>"
      ]
     },
     "metadata": {},
     "output_type": "display_data"
    },
    {
     "name": "stdout",
     "output_type": "stream",
     "text": [
      "Time = 3.91299999999968 seconds.\n",
      "Maximum Velocity 38.337599999996804 meters/second.\n"
     ]
    }
   ],
   "source": [
    "falling_ball(75,False)"
   ]
  },
  {
   "cell_type": "markdown",
   "id": "77d9e0fd",
   "metadata": {},
   "source": [
    "### 100 meter drop with no air."
   ]
  },
  {
   "cell_type": "code",
   "execution_count": 15,
   "id": "5212404d",
   "metadata": {},
   "outputs": [
    {
     "data": {
      "text/html": [
       "<div id=\"glowscript\" class=\"glowscript\"></div>"
      ],
      "text/plain": [
       "<IPython.core.display.HTML object>"
      ]
     },
     "metadata": {},
     "output_type": "display_data"
    },
    {
     "data": {
      "application/javascript": [
       "if (typeof Jupyter !== \"undefined\") { window.__context = { glowscript_container: $(\"#glowscript\").removeAttr(\"id\")};}else{ element.textContent = ' ';}"
      ],
      "text/plain": [
       "<IPython.core.display.Javascript object>"
      ]
     },
     "metadata": {},
     "output_type": "display_data"
    },
    {
     "name": "stdout",
     "output_type": "stream",
     "text": [
      "Time = 4.518999999999844 seconds.\n",
      "Maximum Velocity 44.27639999999588 meters/second.\n"
     ]
    }
   ],
   "source": [
    "falling_ball(100,False)"
   ]
  },
  {
   "cell_type": "markdown",
   "id": "072fa41a",
   "metadata": {},
   "source": [
    "### 125 meter drop with no air."
   ]
  },
  {
   "cell_type": "code",
   "execution_count": 16,
   "id": "a5a95e3d",
   "metadata": {},
   "outputs": [
    {
     "data": {
      "text/html": [
       "<div id=\"glowscript\" class=\"glowscript\"></div>"
      ],
      "text/plain": [
       "<IPython.core.display.HTML object>"
      ]
     },
     "metadata": {},
     "output_type": "display_data"
    },
    {
     "data": {
      "application/javascript": [
       "if (typeof Jupyter !== \"undefined\") { window.__context = { glowscript_container: $(\"#glowscript\").removeAttr(\"id\")};}else{ element.textContent = ' ';}"
      ],
      "text/plain": [
       "<IPython.core.display.Javascript object>"
      ]
     },
     "metadata": {},
     "output_type": "display_data"
    },
    {
     "name": "stdout",
     "output_type": "stream",
     "text": [
      "Time = 5.052000000000022 seconds.\n",
      "Maximum Velocity 49.49979999999507 meters/second.\n"
     ]
    }
   ],
   "source": [
    "falling_ball(125,False)"
   ]
  },
  {
   "cell_type": "markdown",
   "id": "eb40175b",
   "metadata": {},
   "source": [
    "### 150 meter drop with no air."
   ]
  },
  {
   "cell_type": "code",
   "execution_count": 17,
   "id": "59027e88",
   "metadata": {},
   "outputs": [
    {
     "data": {
      "text/html": [
       "<div id=\"glowscript\" class=\"glowscript\"></div>"
      ],
      "text/plain": [
       "<IPython.core.display.HTML object>"
      ]
     },
     "metadata": {},
     "output_type": "display_data"
    },
    {
     "data": {
      "application/javascript": [
       "if (typeof Jupyter !== \"undefined\") { window.__context = { glowscript_container: $(\"#glowscript\").removeAttr(\"id\")};}else{ element.textContent = ' ';}"
      ],
      "text/plain": [
       "<IPython.core.display.Javascript object>"
      ]
     },
     "metadata": {},
     "output_type": "display_data"
    },
    {
     "name": "stdout",
     "output_type": "stream",
     "text": [
      "Time = 5.534000000000183 seconds.\n",
      "Maximum Velocity 54.223399999994335 meters/second.\n"
     ]
    }
   ],
   "source": [
    "falling_ball(150,False)"
   ]
  },
  {
   "cell_type": "markdown",
   "id": "6795e2b1",
   "metadata": {},
   "source": [
    "### 1 meter drop with air."
   ]
  },
  {
   "cell_type": "code",
   "execution_count": 18,
   "id": "29d6bcd3",
   "metadata": {},
   "outputs": [
    {
     "data": {
      "text/html": [
       "<div id=\"glowscript\" class=\"glowscript\"></div>"
      ],
      "text/plain": [
       "<IPython.core.display.HTML object>"
      ]
     },
     "metadata": {},
     "output_type": "display_data"
    },
    {
     "data": {
      "application/javascript": [
       "if (typeof Jupyter !== \"undefined\") { window.__context = { glowscript_container: $(\"#glowscript\").removeAttr(\"id\")};}else{ element.textContent = ' ';}"
      ],
      "text/plain": [
       "<IPython.core.display.Javascript object>"
      ]
     },
     "metadata": {},
     "output_type": "display_data"
    },
    {
     "name": "stdout",
     "output_type": "stream",
     "text": [
      "Time = 0.46300000000000036 seconds.\n",
      "Maximum Velocity 4.1533912457338635 meters/second.\n"
     ]
    }
   ],
   "source": [
    "falling_ball(1,True)"
   ]
  },
  {
   "cell_type": "markdown",
   "id": "f9243769",
   "metadata": {},
   "source": [
    "### 2 meter drop with air."
   ]
  },
  {
   "cell_type": "code",
   "execution_count": 19,
   "id": "2e44cc4a",
   "metadata": {},
   "outputs": [
    {
     "data": {
      "text/html": [
       "<div id=\"glowscript\" class=\"glowscript\"></div>"
      ],
      "text/plain": [
       "<IPython.core.display.HTML object>"
      ]
     },
     "metadata": {},
     "output_type": "display_data"
    },
    {
     "data": {
      "application/javascript": [
       "if (typeof Jupyter !== \"undefined\") { window.__context = { glowscript_container: $(\"#glowscript\").removeAttr(\"id\")};}else{ element.textContent = ' ';}"
      ],
      "text/plain": [
       "<IPython.core.display.Javascript object>"
      ]
     },
     "metadata": {},
     "output_type": "display_data"
    },
    {
     "name": "stdout",
     "output_type": "stream",
     "text": [
      "Time = 0.6680000000000005 seconds.\n",
      "Maximum Velocity 5.51857079221512 meters/second.\n"
     ]
    }
   ],
   "source": [
    "falling_ball(2,True)"
   ]
  },
  {
   "cell_type": "markdown",
   "id": "b7e59419",
   "metadata": {},
   "source": [
    "### 25 meter drop with air."
   ]
  },
  {
   "cell_type": "code",
   "execution_count": 20,
   "id": "c9275c7a",
   "metadata": {},
   "outputs": [
    {
     "data": {
      "text/html": [
       "<div id=\"glowscript\" class=\"glowscript\"></div>"
      ],
      "text/plain": [
       "<IPython.core.display.HTML object>"
      ]
     },
     "metadata": {},
     "output_type": "display_data"
    },
    {
     "data": {
      "application/javascript": [
       "if (typeof Jupyter !== \"undefined\") { window.__context = { glowscript_container: $(\"#glowscript\").removeAttr(\"id\")};}else{ element.textContent = ' ';}"
      ],
      "text/plain": [
       "<IPython.core.display.Javascript object>"
      ]
     },
     "metadata": {},
     "output_type": "display_data"
    },
    {
     "name": "stdout",
     "output_type": "stream",
     "text": [
      "Time = 3.5109999999997243 seconds.\n",
      "Maximum Velocity 8.611936774876355 meters/second.\n"
     ]
    }
   ],
   "source": [
    "falling_ball(25,True)"
   ]
  },
  {
   "cell_type": "markdown",
   "id": "108e0fe6",
   "metadata": {},
   "source": [
    "### 50 meter drop with air."
   ]
  },
  {
   "cell_type": "code",
   "execution_count": 21,
   "id": "1d89d508",
   "metadata": {},
   "outputs": [
    {
     "data": {
      "text/html": [
       "<div id=\"glowscript\" class=\"glowscript\"></div>"
      ],
      "text/plain": [
       "<IPython.core.display.HTML object>"
      ]
     },
     "metadata": {},
     "output_type": "display_data"
    },
    {
     "data": {
      "application/javascript": [
       "if (typeof Jupyter !== \"undefined\") { window.__context = { glowscript_container: $(\"#glowscript\").removeAttr(\"id\")};}else{ element.textContent = ' ';}"
      ],
      "text/plain": [
       "<IPython.core.display.Javascript object>"
      ]
     },
     "metadata": {},
     "output_type": "display_data"
    },
    {
     "name": "stdout",
     "output_type": "stream",
     "text": [
      "Time = 6.412000000000476 seconds.\n",
      "Maximum Velocity 8.617763672039008 meters/second.\n"
     ]
    }
   ],
   "source": [
    "falling_ball(50,True)"
   ]
  },
  {
   "cell_type": "markdown",
   "id": "7df00cd8",
   "metadata": {},
   "source": [
    "### 75 meter drop with air."
   ]
  },
  {
   "cell_type": "code",
   "execution_count": 22,
   "id": "175e3fe6",
   "metadata": {},
   "outputs": [
    {
     "data": {
      "text/html": [
       "<div id=\"glowscript\" class=\"glowscript\"></div>"
      ],
      "text/plain": [
       "<IPython.core.display.HTML object>"
      ]
     },
     "metadata": {},
     "output_type": "display_data"
    },
    {
     "data": {
      "application/javascript": [
       "if (typeof Jupyter !== \"undefined\") { window.__context = { glowscript_container: $(\"#glowscript\").removeAttr(\"id\")};}else{ element.textContent = ' ';}"
      ],
      "text/plain": [
       "<IPython.core.display.Javascript object>"
      ]
     },
     "metadata": {},
     "output_type": "display_data"
    },
    {
     "name": "stdout",
     "output_type": "stream",
     "text": [
      "Time = 9.313000000000278 seconds.\n",
      "Maximum Velocity 8.617771558265892 meters/second.\n"
     ]
    }
   ],
   "source": [
    "falling_ball(75,True)"
   ]
  },
  {
   "cell_type": "markdown",
   "id": "523ed866",
   "metadata": {},
   "source": [
    "### 100 meter drop with air."
   ]
  },
  {
   "cell_type": "code",
   "execution_count": 23,
   "id": "f08a4d96",
   "metadata": {},
   "outputs": [
    {
     "data": {
      "text/html": [
       "<div id=\"glowscript\" class=\"glowscript\"></div>"
      ],
      "text/plain": [
       "<IPython.core.display.HTML object>"
      ]
     },
     "metadata": {},
     "output_type": "display_data"
    },
    {
     "data": {
      "application/javascript": [
       "if (typeof Jupyter !== \"undefined\") { window.__context = { glowscript_container: $(\"#glowscript\").removeAttr(\"id\")};}else{ element.textContent = ' ';}"
      ],
      "text/plain": [
       "<IPython.core.display.Javascript object>"
      ]
     },
     "metadata": {},
     "output_type": "display_data"
    },
    {
     "name": "stdout",
     "output_type": "stream",
     "text": [
      "Time = 12.21399999999867 seconds.\n",
      "Maximum Velocity 8.617771568935638 meters/second.\n"
     ]
    }
   ],
   "source": [
    "falling_ball(100,True)"
   ]
  },
  {
   "attachments": {},
   "cell_type": "markdown",
   "id": "86c13c8a",
   "metadata": {},
   "source": [
    "### 125 meter drop with air."
   ]
  },
  {
   "cell_type": "code",
   "execution_count": 24,
   "id": "50266d1e",
   "metadata": {},
   "outputs": [
    {
     "data": {
      "text/html": [
       "<div id=\"glowscript\" class=\"glowscript\"></div>"
      ],
      "text/plain": [
       "<IPython.core.display.HTML object>"
      ]
     },
     "metadata": {},
     "output_type": "display_data"
    },
    {
     "data": {
      "application/javascript": [
       "if (typeof Jupyter !== \"undefined\") { window.__context = { glowscript_container: $(\"#glowscript\").removeAttr(\"id\")};}else{ element.textContent = ' ';}"
      ],
      "text/plain": [
       "<IPython.core.display.Javascript object>"
      ]
     },
     "metadata": {},
     "output_type": "display_data"
    },
    {
     "name": "stdout",
     "output_type": "stream",
     "text": [
      "Time = 15.114999999997062 seconds.\n",
      "Maximum Velocity 8.617771568949703 meters/second.\n"
     ]
    }
   ],
   "source": [
    "falling_ball(125,True)"
   ]
  },
  {
   "cell_type": "markdown",
   "id": "30d378e1",
   "metadata": {},
   "source": [
    "### 150 meter drop with air."
   ]
  },
  {
   "cell_type": "code",
   "execution_count": 25,
   "id": "b09c6593",
   "metadata": {},
   "outputs": [
    {
     "data": {
      "text/html": [
       "<div id=\"glowscript\" class=\"glowscript\"></div>"
      ],
      "text/plain": [
       "<IPython.core.display.HTML object>"
      ]
     },
     "metadata": {},
     "output_type": "display_data"
    },
    {
     "data": {
      "application/javascript": [
       "if (typeof Jupyter !== \"undefined\") { window.__context = { glowscript_container: $(\"#glowscript\").removeAttr(\"id\")};}else{ element.textContent = ' ';}"
      ],
      "text/plain": [
       "<IPython.core.display.Javascript object>"
      ]
     },
     "metadata": {},
     "output_type": "display_data"
    },
    {
     "name": "stdout",
     "output_type": "stream",
     "text": [
      "Time = 18.015999999999035 seconds.\n",
      "Maximum Velocity 8.617771568949703 meters/second.\n"
     ]
    }
   ],
   "source": [
    "falling_ball(150,True)"
   ]
  },
  {
   "attachments": {
    "ece1180_project1.png": {
     "image/png": "[encoded data removed]"
    }
   },
   "cell_type": "markdown",
   "id": "d06110da",
   "metadata": {},
   "source": [
    "![ece1180_project1.png](attachment:ece1180_project1.png)"
   ]
  },
  {
   "cell_type": "markdown",
   "id": "b844dfad",
   "metadata": {},
   "source": [
    "## Elastic vs. Inelastic Collisions"
   ]
  },
  {
   "cell_type": "markdown",
   "id": "aa3b0402",
   "metadata": {},
   "source": [
    "Source: https://s3.amazonaws.com/scschoolfiles/747/ch_11-5_elastic_collisions.pdf . The formula for velocity in inelastic collision is used is v = (m1 - m2)/(m1 + m2)* v0. v is velocity, m1 is the mass of the falling object, m2 is the mass of the object that object 1 is falling into, v0 is the velocity of the falling object. The function below will be called to show how a ball will bounce off of an object with varying masses. It will then print the ball reaches after the first bounce."
   ]
  },
  {
   "cell_type": "code",
   "execution_count": 26,
   "id": "eff61526",
   "metadata": {},
   "outputs": [],
   "source": [
    "def bouncing_ball(mass,type1):\n",
    "    scene = canvas()\n",
    "    ball = sphere(pos=vector(0,50,0), radius=1.5,color=color.cyan,make_trail = False)\n",
    "    walltop = box(pos=vector(0,50,0), size=vector(12,0.2,12), color=color.green)\n",
    "    wallBottom = box(pos=vector(0,-50,0), size=vector(12,0.2,12), color=color.green)\n",
    "    wall75m = box(pos=vector(0,25,0), size=vector(12,0.2,0), color=color.green)\n",
    "    wall50m = box(pos=vector(0,0,0), size=vector(12,0.2,0), color=color.green)\n",
    "    wall25m = box(pos=vector(0,-25,0), size=vector(12,0.2,0), color=color.green)\n",
    "    wallBa = box(pos=vector(0,0,-6), size=vector(12,100,0.2), color=color.red)\n",
    "    ball.velocity = vector(0,0,0)\n",
    "    deltat = 0.0001\n",
    "    t = 0\n",
    "    g = -9.8\n",
    "    m2 = mass\n",
    "    b = 0\n",
    "    bounceHeight = -50\n",
    "    scene.autoscale = True\n",
    "\n",
    "    while t <= 12:\n",
    "        rate(10000)\n",
    "        if ball.pos.y <= -50 : \n",
    "            if type1 == True:\n",
    "                ball.velocity.y = -ball.velocity.y\n",
    "                b += 1\n",
    "            else:\n",
    "                ball.velocity.y = ((1-m2)/(1+m2))*ball.velocity.y\n",
    "                b+= 1\n",
    "        if b == 1 : \n",
    "            if ball.pos.y > bounceHeight :\n",
    "                bounceHeight = ball.pos.y\n",
    "        t = t + deltat\n",
    "        ball.velocity.y = ball.velocity.y + g*deltat\n",
    "        ball.pos= ball.pos + ball.velocity*deltat\n",
    "    print(\"The difference in height is \" + str(50 - bounceHeight)+ \" meters.\")\n",
    "   "
   ]
  },
  {
   "cell_type": "markdown",
   "id": "4ec4087a",
   "metadata": {},
   "source": [
    "### Elastic Collision"
   ]
  },
  {
   "cell_type": "code",
   "execution_count": 27,
   "id": "5094043b",
   "metadata": {},
   "outputs": [
    {
     "data": {
      "text/html": [
       "<div id=\"glowscript\" class=\"glowscript\"></div>"
      ],
      "text/plain": [
       "<IPython.core.display.HTML object>"
      ]
     },
     "metadata": {},
     "output_type": "display_data"
    },
    {
     "data": {
      "application/javascript": [
       "if (typeof Jupyter !== \"undefined\") { window.__context = { glowscript_container: $(\"#glowscript\").removeAttr(\"id\")};}else{ element.textContent = ' ';}"
      ],
      "text/plain": [
       "<IPython.core.display.Javascript object>"
      ]
     },
     "metadata": {},
     "output_type": "display_data"
    },
    {
     "name": "stdout",
     "output_type": "stream",
     "text": [
      "The difference in height is 0.004427149999997937 meters.\n"
     ]
    }
   ],
   "source": [
    "bouncing_ball(1,True)"
   ]
  },
  {
   "cell_type": "markdown",
   "id": "de7235dd",
   "metadata": {},
   "source": [
    "### Inelastic with mass of 10000 kg"
   ]
  },
  {
   "cell_type": "code",
   "execution_count": 28,
   "id": "9a1e91c8",
   "metadata": {},
   "outputs": [
    {
     "data": {
      "text/html": [
       "<div id=\"glowscript\" class=\"glowscript\"></div>"
      ],
      "text/plain": [
       "<IPython.core.display.HTML object>"
      ]
     },
     "metadata": {},
     "output_type": "display_data"
    },
    {
     "data": {
      "application/javascript": [
       "if (typeof Jupyter !== \"undefined\") { window.__context = { glowscript_container: $(\"#glowscript\").removeAttr(\"id\")};}else{ element.textContent = ' ';}"
      ],
      "text/plain": [
       "<IPython.core.display.Javascript object>"
      ]
     },
     "metadata": {},
     "output_type": "display_data"
    },
    {
     "name": "stdout",
     "output_type": "stream",
     "text": [
      "The difference in height is 0.04441800730522516 meters.\n"
     ]
    }
   ],
   "source": [
    "bouncing_ball(10000,False)"
   ]
  },
  {
   "cell_type": "markdown",
   "id": "cc14e97e",
   "metadata": {},
   "source": [
    "### Inelastic with mass of 1000 kg"
   ]
  },
  {
   "cell_type": "code",
   "execution_count": 29,
   "id": "3affd53d",
   "metadata": {},
   "outputs": [
    {
     "data": {
      "text/html": [
       "<div id=\"glowscript\" class=\"glowscript\"></div>"
      ],
      "text/plain": [
       "<IPython.core.display.HTML object>"
      ]
     },
     "metadata": {},
     "output_type": "display_data"
    },
    {
     "data": {
      "application/javascript": [
       "if (typeof Jupyter !== \"undefined\") { window.__context = { glowscript_container: $(\"#glowscript\").removeAttr(\"id\")};}else{ element.textContent = ' ';}"
      ],
      "text/plain": [
       "<IPython.core.display.Javascript object>"
      ]
     },
     "metadata": {},
     "output_type": "display_data"
    },
    {
     "name": "stdout",
     "output_type": "stream",
     "text": [
      "The difference in height is 0.4036169327271253 meters.\n"
     ]
    }
   ],
   "source": [
    "bouncing_ball(1000,False)"
   ]
  },
  {
   "cell_type": "markdown",
   "id": "56227935",
   "metadata": {},
   "source": [
    "### Inelastic with mass of 100 kg"
   ]
  },
  {
   "cell_type": "code",
   "execution_count": 30,
   "id": "e522d415",
   "metadata": {},
   "outputs": [
    {
     "data": {
      "text/html": [
       "<div id=\"glowscript\" class=\"glowscript\"></div>"
      ],
      "text/plain": [
       "<IPython.core.display.HTML object>"
      ]
     },
     "metadata": {},
     "output_type": "display_data"
    },
    {
     "data": {
      "application/javascript": [
       "if (typeof Jupyter !== \"undefined\") { window.__context = { glowscript_container: $(\"#glowscript\").removeAttr(\"id\")};}else{ element.textContent = ' ';}"
      ],
      "text/plain": [
       "<IPython.core.display.Javascript object>"
      ]
     },
     "metadata": {},
     "output_type": "display_data"
    },
    {
     "name": "stdout",
     "output_type": "stream",
     "text": [
      "The difference in height is 3.9254989061372143 meters.\n"
     ]
    }
   ],
   "source": [
    "bouncing_ball(100,False)"
   ]
  },
  {
   "cell_type": "markdown",
   "id": "82637de2",
   "metadata": {},
   "source": [
    "### Inelastic with mass of 50 kg"
   ]
  },
  {
   "cell_type": "code",
   "execution_count": 31,
   "id": "abe7781c",
   "metadata": {},
   "outputs": [
    {
     "data": {
      "text/html": [
       "<div id=\"glowscript\" class=\"glowscript\"></div>"
      ],
      "text/plain": [
       "<IPython.core.display.HTML object>"
      ]
     },
     "metadata": {},
     "output_type": "display_data"
    },
    {
     "data": {
      "application/javascript": [
       "if (typeof Jupyter !== \"undefined\") { window.__context = { glowscript_container: $(\"#glowscript\").removeAttr(\"id\")};}else{ element.textContent = ' ';}"
      ],
      "text/plain": [
       "<IPython.core.display.Javascript object>"
      ]
     },
     "metadata": {},
     "output_type": "display_data"
    },
    {
     "name": "stdout",
     "output_type": "stream",
     "text": [
      "The difference in height is 7.693556065448405 meters.\n"
     ]
    }
   ],
   "source": [
    "bouncing_ball(50,False)"
   ]
  },
  {
   "cell_type": "markdown",
   "id": "105707cd",
   "metadata": {},
   "source": [
    "### Inelastic with mass of 25 kg"
   ]
  },
  {
   "cell_type": "code",
   "execution_count": 32,
   "id": "5355721d",
   "metadata": {},
   "outputs": [
    {
     "data": {
      "text/html": [
       "<div id=\"glowscript\" class=\"glowscript\"></div>"
      ],
      "text/plain": [
       "<IPython.core.display.HTML object>"
      ]
     },
     "metadata": {},
     "output_type": "display_data"
    },
    {
     "data": {
      "application/javascript": [
       "if (typeof Jupyter !== \"undefined\") { window.__context = { glowscript_container: $(\"#glowscript\").removeAttr(\"id\")};}else{ element.textContent = ' ';}"
      ],
      "text/plain": [
       "<IPython.core.display.Javascript object>"
      ]
     },
     "metadata": {},
     "output_type": "display_data"
    },
    {
     "name": "stdout",
     "output_type": "stream",
     "text": [
      "The difference in height is 14.796897499995332 meters.\n"
     ]
    }
   ],
   "source": [
    "bouncing_ball(25,False)"
   ]
  },
  {
   "cell_type": "markdown",
   "id": "17bce642",
   "metadata": {},
   "source": [
    "### Inelastic with mass of 10 kg"
   ]
  },
  {
   "cell_type": "code",
   "execution_count": 33,
   "id": "7c27fb1b",
   "metadata": {},
   "outputs": [
    {
     "data": {
      "text/html": [
       "<div id=\"glowscript\" class=\"glowscript\"></div>"
      ],
      "text/plain": [
       "<IPython.core.display.HTML object>"
      ]
     },
     "metadata": {},
     "output_type": "display_data"
    },
    {
     "data": {
      "application/javascript": [
       "if (typeof Jupyter !== \"undefined\") { window.__context = { glowscript_container: $(\"#glowscript\").removeAttr(\"id\")};}else{ element.textContent = ' ';}"
      ],
      "text/plain": [
       "<IPython.core.display.Javascript object>"
      ]
     },
     "metadata": {},
     "output_type": "display_data"
    },
    {
     "name": "stdout",
     "output_type": "stream",
     "text": [
      "The difference in height is 33.061297604353186 meters.\n"
     ]
    }
   ],
   "source": [
    "bouncing_ball(10,False)"
   ]
  },
  {
   "cell_type": "markdown",
   "id": "6232bdb9",
   "metadata": {},
   "source": [
    "From the differences in return height you can see the transfer of energy from the initial falling object into the ground. The lower the mass is of the second object, the more energy is transfered into it."
   ]
  },
  {
   "cell_type": "code",
   "execution_count": null,
   "id": "9d0ef74e",
   "metadata": {},
   "outputs": [],
   "source": []
  }
 ],
 "metadata": {
  "kernelspec": {
   "display_name": "Python 3 (ipykernel)",
   "language": "python",
   "name": "python3"
  },
  "language_info": {
   "codemirror_mode": {
    "name": "ipython",
    "version": 3
   },
   "file_extension": ".py",
   "mimetype": "text/x-python",
   "name": "python",
   "nbconvert_exporter": "python",
   "pygments_lexer": "ipython3",
   "version": "3.10.8"
  }
 },
 "nbformat": 4,
 "nbformat_minor": 5
}
