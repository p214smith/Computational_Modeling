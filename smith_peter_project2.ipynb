{
 "cells": [
  {
   "cell_type": "markdown",
   "id": "e67a9dd5",
   "metadata": {},
   "source": [
    "# Planetary Orbits"
   ]
  },
  {
   "cell_type": "code",
   "execution_count": 7,
   "id": "c82130d8",
   "metadata": {},
   "outputs": [
    {
     "name": "stdout",
     "output_type": "stream",
     "text": [
      "<0.199445, -0.936849, -0.0209884>\n"
     ]
    }
   ],
   "source": [
    "from vpython import *\n"
   ]
  },
  {
   "cell_type": "markdown",
   "id": "22525490",
   "metadata": {},
   "source": [
    "## Newton's Cannonball Thought Experiment"
   ]
  },
  {
   "cell_type": "code",
   "execution_count": 2,
   "id": "38ffe083",
   "metadata": {},
   "outputs": [
    {
     "data": {
      "text/html": [
       "<div id=\"glowscript\" class=\"glowscript\"></div>"
      ],
      "text/plain": [
       "<IPython.core.display.HTML object>"
      ]
     },
     "metadata": {},
     "output_type": "display_data"
    },
    {
     "data": {
      "application/javascript": [
       "if (typeof Jupyter !== \"undefined\") { window.__context = { glowscript_container: $(\"#glowscript\").removeAttr(\"id\")};}else{ element.textContent = ' ';}"
      ],
      "text/plain": [
       "<IPython.core.display.Javascript object>"
      ]
     },
     "metadata": {},
     "output_type": "display_data"
    },
    {
     "data": {
      "application/javascript": [
       "if (typeof Jupyter !== \"undefined\") {require.undef(\"nbextensions/vpython_libraries/glow.min\");}else{element.textContent = ' ';}"
      ],
      "text/plain": [
       "<IPython.core.display.Javascript object>"
      ]
     },
     "metadata": {},
     "output_type": "display_data"
    },
    {
     "data": {
      "application/javascript": [
       "if (typeof Jupyter !== \"undefined\") {require.undef(\"nbextensions/vpython_libraries/glowcomm\");}else{element.textContent = ' ';}"
      ],
      "text/plain": [
       "<IPython.core.display.Javascript object>"
      ]
     },
     "metadata": {},
     "output_type": "display_data"
    },
    {
     "data": {
      "application/javascript": [
       "if (typeof Jupyter !== \"undefined\") {require.undef(\"nbextensions/vpython_libraries/jquery-ui.custom.min\");}else{element.textContent = ' ';}"
      ],
      "text/plain": [
       "<IPython.core.display.Javascript object>"
      ]
     },
     "metadata": {},
     "output_type": "display_data"
    },
    {
     "data": {
      "application/javascript": [
       "if (typeof Jupyter !== \"undefined\") {require([\"nbextensions/vpython_libraries/glow.min\"], function(){console.log(\"GLOW LOADED\");});}else{element.textContent = ' ';}"
      ],
      "text/plain": [
       "<IPython.core.display.Javascript object>"
      ]
     },
     "metadata": {},
     "output_type": "display_data"
    },
    {
     "data": {
      "application/javascript": [
       "if (typeof Jupyter !== \"undefined\") {require([\"nbextensions/vpython_libraries/glowcomm\"], function(){console.log(\"GLOWCOMM LOADED\");});}else{element.textContent = ' ';}"
      ],
      "text/plain": [
       "<IPython.core.display.Javascript object>"
      ]
     },
     "metadata": {},
     "output_type": "display_data"
    },
    {
     "data": {
      "application/javascript": [
       "if (typeof Jupyter !== \"undefined\") {require([\"nbextensions/vpython_libraries/jquery-ui.custom.min\"], function(){console.log(\"JQUERY LOADED\");});}else{element.textContent = ' ';}"
      ],
      "text/plain": [
       "<IPython.core.display.Javascript object>"
      ]
     },
     "metadata": {},
     "output_type": "display_data"
    }
   ],
   "source": [
    "scene = canvas()\n",
    "earth1 = sphere(pos= vector(0,0,0),radius = 6.3781e6,texture=textures.earth)\n",
    "earth1.mass = 5.97219e24\n",
    "grav_const = 6.674e-11\n",
    "cannon_stand = cylinder(pos = vector(0,6.3781e6,0),radius =100000, axis = vector(0,1000000,0),color = color.blue)\n",
    "cannonball = sphere(pos= vector(0,7378100,0), radius = 300000, color =color.red, make_trail = True, trail_color = color.white,trail_radius = 50000 )\n",
    "cannonball.velocity = vector(7340,0,0)\n",
    "cannonball.mass = 1\n",
    "deltat = 1\n",
    "t = 0\n",
    "while t < 12000:\n",
    "    rate(1000)\n",
    "    r_vec = earth1.pos - cannonball.pos\n",
    "    r_mag = mag(r_vec)\n",
    "    force = (grav_const * earth1.mass * cannonball.mass)/(r_mag ** 2)\n",
    "    cannonball.accel = (r_vec/r_mag) * force\n",
    "    \n",
    "    cannonball.velocity = cannonball.velocity + cannonball.accel*deltat\n",
    "    \n",
    "    cannonball.pos = cannonball.pos + cannonball.velocity*deltat\n",
    "    t = t + deltat"
   ]
  },
  {
   "cell_type": "markdown",
   "id": "a207bea1",
   "metadata": {},
   "source": [
    "## Newton's Cannon Summary\n",
    "source: https://applets.kcvs.ca/NewtonsCannon/NewtonsCannon.html\n",
    "source: https://en.wikipedia.org/wiki/Earth_radius\n",
    "source: https://en.wikipedia.org/wiki/Earth_mass\n",
    "\n",
    "For this simulation I used another simulation to validate the escape velocity and orbital velocities. I matched the height of the cannon with the simulation as well as the cannonball's mass. From the simulation I was able to verify that aproxmately 7350 m/s was the necessary velocity to put the ball into orbit. I was able to estimate the escape velocity of to be approimately 11200 m/s. Both of which I was able to verify with the simulation. In designing this I initialized all of the objects first. Then I calculated the vector between the earth and the ball, then the magnitude and forces. I got the acceleration, velocity, and finally moved the ball."
   ]
  },
  {
   "cell_type": "markdown",
   "id": "ea24156b",
   "metadata": {},
   "source": [
    "## Solar System Simulation"
   ]
  },
  {
   "cell_type": "markdown",
   "id": "34c6880a",
   "metadata": {},
   "source": [
    "### Generate Planets Function"
   ]
  },
  {
   "cell_type": "code",
   "execution_count": 3,
   "id": "e3a844e0",
   "metadata": {},
   "outputs": [],
   "source": [
    "def generate_planets():\n",
    "    sun = sphere(pos = vector(0,0,0),radius =695700e4, color = color.yellow)\n",
    "    sun.acc = vector(0,0,0)\n",
    "    sun.velocity = vector(0,0,0)\n",
    "    sun.mass = 19885000e23\n",
    "    mercury = sphere(pos = vector(-30363875.2347075e3,-62285127.7983428e3,-2304823.616874413e3),radius = 2440e6, color = color.purple, make_trail = True,trail_radius = 2440e5 )\n",
    "    mercury.velocity = vector(33.9791988943263e3,-18.9813050877697e3,-4.66788985007926e3)\n",
    "    mercury.acc = vector(0,0,0)\n",
    "    mercury.mass = 3.302e23\n",
    "    venus = sphere(pos = vector(97601837.3554247e3,46903828.7725461e3,-4987910.46493504e3),radius = 6051.84e6, color = color.green, make_trail = True, trail_radius = 6051e5)\n",
    "    venus.velocity = vector(-15.2820811127058e3, 31.3982799158338e3, 1.31316035218452e3)\n",
    "    venus.acc = vector(0,0,0)\n",
    "    venus.mass = 48.685e23\n",
    "    earth = sphere(pos = vector(-115790289.803098e3,91576450.0269821e3,-4251.93396821618e3), radius = 6378.137e6,texture=textures.earth,make_trail = True, trail_radius = 6378.137e5)\n",
    "    earth.velocity = vector(-18.9663163635702e3,-23.4827290076897e3,0.00235507185317729e3)\n",
    "    earth.acc = vector(0,0,0)\n",
    "    earth.mass = 59.7219e23\n",
    "    mars = sphere(pos = vector(-72277153.222941e3,229609634.009993e3,6585115.89183785e3),radius = 3389.92e6, color = color.red, make_trail = True, trail_radius = 3389.92e5)\n",
    "    mars.velocity = vector(-22.193976778373e3,-5.21653920321219e3,0.435075574833124e3)\n",
    "    mars.acc = vector(0,0,0)\n",
    "    mars.mass = 6.4171e23\n",
    "    planets = {\"sun\":sun,\"mercury\":mercury,\"venus\":venus,\"earth\":earth,\"mars\":mars}\n",
    "    return planets"
   ]
  },
  {
   "cell_type": "markdown",
   "id": "a1f414ac",
   "metadata": {},
   "source": [
    "### Calculate Forces Function"
   ]
  },
  {
   "cell_type": "code",
   "execution_count": 4,
   "id": "92056bb9",
   "metadata": {},
   "outputs": [],
   "source": [
    "def calculate_forces(planets_dictionary):\n",
    "    for planet in planets_dictionary.values():\n",
    "        planet.acc = vector(0,0,0)\n",
    "        for other_planets in planets_dictionary.values():\n",
    "            r_vector = other_planets.pos - planet.pos\n",
    "            r_magnitude = mag(r_vector)\n",
    "            if r_magnitude != 0:\n",
    "                forces = (grav_const * planet.mass * other_planets.mass)/(r_magnitude ** 2)\n",
    "                planet.acc += (r_vector/r_magnitude) * (forces/planet.mass)\n",
    "        "
   ]
  },
  {
   "cell_type": "markdown",
   "id": "221353ad",
   "metadata": {},
   "source": [
    "### Move Planets Function"
   ]
  },
  {
   "cell_type": "code",
   "execution_count": 5,
   "id": "3463cbfb",
   "metadata": {},
   "outputs": [],
   "source": [
    "def move_planets(delta_time,planets_dictionary):\n",
    "    for planet in planets_dictionary.values():\n",
    "        if planet.pos != vector(0,0,0):\n",
    "            planet.velocity = planet.velocity + planet.acc*delta_time\n",
    "            planet.pos = planet.pos + planet.velocity*delta_time\n",
    "    "
   ]
  },
  {
   "cell_type": "markdown",
   "id": "6a3bd27f",
   "metadata": {},
   "source": [
    "### Simulation: Timestep = 12 hours"
   ]
  },
  {
   "cell_type": "code",
   "execution_count": 7,
   "id": "d22724ec",
   "metadata": {},
   "outputs": [
    {
     "data": {
      "text/html": [
       "<div id=\"glowscript\" class=\"glowscript\"></div>"
      ],
      "text/plain": [
       "<IPython.core.display.HTML object>"
      ]
     },
     "metadata": {},
     "output_type": "display_data"
    },
    {
     "data": {
      "application/javascript": [
       "if (typeof Jupyter !== \"undefined\") { window.__context = { glowscript_container: $(\"#glowscript\").removeAttr(\"id\")};}else{ element.textContent = ' ';}"
      ],
      "text/plain": [
       "<IPython.core.display.Javascript object>"
      ]
     },
     "metadata": {},
     "output_type": "display_data"
    },
    {
     "name": "stdout",
     "output_type": "stream",
     "text": [
      "<0, 0, 0>\n",
      "<4.90765e+10, -3.14687e+10, -7.07308e+09>\n",
      "<-4.91959e+10, 9.45493e+10, 4.13788e+09>\n",
      "<-1.14377e+11, 9.33135e+10, -4.50634e+06>\n",
      "<-1.48954e+11, 1.95493e+11, 7.75091e+09>\n"
     ]
    }
   ],
   "source": [
    "scene1 = canvas()\n",
    "planet_dictionary = generate_planets()\n",
    "deltatime = 43200\n",
    "t = 0\n",
    "while t < 31536000*2:\n",
    "    rate(100)\n",
    "    calculate_forces(planet_dictionary)\n",
    "    move_planets(deltatime,planet_dictionary)\n",
    "    t = t + deltatime\n",
    "for planet in planet_dictionary.values():\n",
    "    print(planet.pos)\n"
   ]
  },
  {
   "attachments": {
    "image.png": {
     "image/png": "[encoded data removed]"
    }
   },
   "cell_type": "markdown",
   "id": "5bb8ee60",
   "metadata": {},
   "source": [
    "### Simulation Vs. Actual\n",
    "Planet\tx- pos simulated\t2-yr x-position\tx error\ty-pos simulated\t2-yr y-position\ty error\tz-pos simulated\t2-yr z-position\tz error\n",
    "Mercury\t4.91E+10\t4.94E+10\t0.751112712\t-3.15E+10\t-3.31E+10\t4.9751007\t-7.07E+09\t-7.24E+09\t2.328971711\n",
    "Venus\t-4.92E+10\t-4.92E+10\t0.09355325\t9.45E+10\t9.55E+10\t0.96470386\t4.14E+09\t4.15E+09\t0.350696379\n",
    "Earth\t-1.14E+11\t-1.17E+11\t1.902797801\t9.33E+10\t9.06E+10\t3.022757535\t-4.51E+06\t-4.82E+06\t6.453449285\n",
    "Mars\t-1.49E+11\t-1.50E+11\t0.726174998\t1.95E+11\t1.95E+11\t0.266126639\t7.75E+09\t7.77E+09\t0.186198346\n",
    "\t\tMean Error(%)\t0.86840969\t\tMean Error(%)\t2.307172184\t\tMean Error(%)\t2.32982893\n",
    "![image.png](attachment:image.png)"
   ]
  },
  {
   "cell_type": "markdown",
   "id": "8ff2323a",
   "metadata": {},
   "source": [
    "### Simulation: Timestep = 6 hours"
   ]
  },
  {
   "cell_type": "code",
   "execution_count": 8,
   "id": "e375e797",
   "metadata": {},
   "outputs": [
    {
     "data": {
      "text/html": [
       "<div id=\"glowscript\" class=\"glowscript\"></div>"
      ],
      "text/plain": [
       "<IPython.core.display.HTML object>"
      ]
     },
     "metadata": {},
     "output_type": "display_data"
    },
    {
     "data": {
      "application/javascript": [
       "if (typeof Jupyter !== \"undefined\") { window.__context = { glowscript_container: $(\"#glowscript\").removeAttr(\"id\")};}else{ element.textContent = ' ';}"
      ],
      "text/plain": [
       "<IPython.core.display.Javascript object>"
      ]
     },
     "metadata": {},
     "output_type": "display_data"
    },
    {
     "name": "stdout",
     "output_type": "stream",
     "text": [
      "<0, 0, 0>\n",
      "<4.87001e+10, -3.3781e+10, -7.22752e+09>\n",
      "<-4.90005e+10, 9.5061e+10, 4.13363e+09>\n",
      "<-1.14338e+11, 9.33536e+10, -4.5048e+06>\n",
      "<-1.48759e+11, 1.9574e+11, 7.75128e+09>\n"
     ]
    }
   ],
   "source": [
    "scene1 = canvas()\n",
    "planet_dictionary = generate_planets()\n",
    "deltatime = 43200/2\n",
    "t = 0\n",
    "while t < 31536000*2:\n",
    "    rate(100)\n",
    "    calculate_forces(planet_dictionary)\n",
    "    move_planets(deltatime,planet_dictionary)\n",
    "    t = t + deltatime\n",
    "for planet in planet_dictionary.values():\n",
    "    print(planet.pos)\n"
   ]
  },
  {
   "attachments": {
    "image.png": {
     "image/png": "[encoded data removed]"
    }
   },
   "cell_type": "markdown",
   "id": "aae6c76d",
   "metadata": {},
   "source": [
    "### Simulation Vs. Actual\n",
    "Planet\tx- pos simulated\t2-yr x-position\tx error\ty-pos simulated\t2-yr y-position\ty error\tz-pos simulated\t2-yr z-position\tz error\n",
    "Mercury\t4.87E+10\t4.94E+10\t1.512317794\t-3.38E+10\t-3.31E+10\t2.007268278\t-7.23E+09\t-7.24E+09\t0.196334499\n",
    "Venus\t-4.90E+10\t-4.92E+10\t0.490369238\t9.51E+10\t9.55E+10\t0.428725688\t4.13E+09\t4.15E+09\t0.45304578\n",
    "Earth\t-1.14E+11\t-1.17E+11\t1.936246754\t9.34E+10\t9.06E+10\t3.067029935\t-4.50E+06\t-4.82E+06\t6.485417954\n",
    "Mars\t-1.49E+11\t-1.50E+11\t0.856137241\t1.96E+11\t1.95E+11\t0.392810118\t7.75E+09\t7.77E+09\t0.181433602\n",
    "\t\tMean Error(%)\t1.198767757\t\tMean Error(%)\t1.473958505\t\tMean Error(%)\t1.829057959\n",
    "![image.png](attachment:image.png)"
   ]
  },
  {
   "cell_type": "markdown",
   "id": "b513ac80",
   "metadata": {},
   "source": [
    "### Simulation: Timestep = 1 hour"
   ]
  },
  {
   "cell_type": "code",
   "execution_count": 11,
   "id": "90362738",
   "metadata": {},
   "outputs": [
    {
     "data": {
      "text/html": [
       "<div id=\"glowscript\" class=\"glowscript\"></div>"
      ],
      "text/plain": [
       "<IPython.core.display.HTML object>"
      ]
     },
     "metadata": {},
     "output_type": "display_data"
    },
    {
     "data": {
      "application/javascript": [
       "if (typeof Jupyter !== \"undefined\") { window.__context = { glowscript_container: $(\"#glowscript\").removeAttr(\"id\")};}else{ element.textContent = ' ';}"
      ],
      "text/plain": [
       "<IPython.core.display.Javascript object>"
      ]
     },
     "metadata": {},
     "output_type": "display_data"
    },
    {
     "name": "stdout",
     "output_type": "stream",
     "text": [
      "<0, 0, 0>\n",
      "<4.8006e+10, -3.61985e+10, -7.36141e+09>\n",
      "<-4.87417e+10, 9.55402e+10, 4.12527e+09>\n",
      "<-1.14279e+11, 9.34172e+10, -4.50702e+06>\n",
      "<-1.4859e+11, 1.95948e+11, 7.75152e+09>\n"
     ]
    }
   ],
   "source": [
    "scene1 = canvas()\n",
    "planet_dictionary = generate_planets()\n",
    "deltatime = 43200/12\n",
    "t = 0\n",
    "while t < 31536000*2:\n",
    "    rate(100)\n",
    "    calculate_forces(planet_dictionary)\n",
    "    move_planets(deltatime,planet_dictionary)\n",
    "    t = t + deltatime\n",
    "for planet in planet_dictionary.values():\n",
    "    print(planet.pos)\n"
   ]
  },
  {
   "attachments": {
    "image.png": {
     "image/png": "[encoded data removed]"
    }
   },
   "cell_type": "markdown",
   "id": "a23f2d74",
   "metadata": {},
   "source": [
    "### Simulation Vs. Actual\n",
    "Planet\tx- pos simulated\t2-yr x-position\tx error\ty-pos simulated\t2-yr y-position\ty error\tz-pos simulated\t2-yr z-position\tz error\n",
    "Mercury\t4.80E+10\t4.94E+10\t2.916017175\t-3.62E+10\t-3.31E+10\t9.307305905\t-7.36E+09\t-7.24E+09\t1.652531056\n",
    "Venus\t-4.87E+10\t-4.92E+10\t1.01593719\t9.55E+10\t9.55E+10\t0.073210487\t4.13E+09\t4.15E+09\t0.654373073\n",
    "Earth\t-1.14E+11\t-1.17E+11\t1.986849016\t9.34E+10\t9.06E+10\t3.137247507\t-4.51E+06\t-4.82E+06\t6.43933325\n",
    "Mars\t-1.49E+11\t-1.50E+11\t0.968771185\t1.95E+11\t1.95E+11\t0.266126639\t7.75E+09\t7.77E+09\t0.178342957\n",
    "\t\tMean Error(%)\t1.721893641\t\tMean Error(%)\t3.195972634\t\tMean Error(%)\t2.231145084\n",
    "![image.png](attachment:image.png)\n"
   ]
  },
  {
   "cell_type": "markdown",
   "id": "44648d66",
   "metadata": {},
   "source": [
    "### Determining Initial Values\n",
    "\n",
    "source:https://ssd.jpl.nasa.gov/horizons/app.html#/\n",
    "\n",
    "All of my initial values were derived from the Horizons System website to be as accurate as possible. The only changes made to the initial values were to the radii of the planets. To make them visible I increased the radii of the sun by x100 and all other planets by x1000. In the Function generate_planets(), all planets are given the initial starting positions, velocities, mass, and radii. All planets are initialized with an acceleration vector as well."
   ]
  },
  {
   "cell_type": "markdown",
   "id": "35390760",
   "metadata": {},
   "source": [
    "### Simulation Design\n",
    "\n",
    "For my simulation design I created three different functions and then run them in a separate cell with a while loop to run the simulation. The first function is the generate_planets() function. When the function is called it initializes all of the planets as well as the sun as sphere() objects with the necessary values. Once the all of the objects are initialized I placed them into a dictionary and return the dictionary object out of the function. The second function is the calculate_forces() function. This function passes in the dictionary object returned from the generate_planets() function and calculates the forces of each planet against the other. It itarates over each planet in the dictionary, then calculates the forces and acceleration against every other planet. The final function is the move_planets() function. This function passes in the planets dictionary as well as the delta time. It then itarates over the planets and updates the velocity and position of the planets. For each simulation I create a new canvas, then generate the planets. I set a delta time and set time to 0. I run a while loop that will call the calculate_forces() and move_planets() functions, then update the time as long as t is under the alloted amount. "
   ]
  },
  {
   "cell_type": "markdown",
   "id": "46d4ed0a",
   "metadata": {},
   "source": [
    "### Verification\n",
    "\n",
    "Under each simulation you will see an image of the simulated versus expected values. I got all of the expected values from the Horizons System website. I set the date to two years after the initial date, this way I would have a long enough simulation to get a relatively accurate simulation. For the simulation with the 12 hour time step the mean errors are as follows: x-position = 0.87%, y-position = 2.31%, z-position = 2.33%. For the simulation with the 6 hour time step the mean errors are as follows: x-position = 1.20%, y-position = 1.47%, z-position = 1.83%. For the simulation with the 1 hour time step the mean errors are as follows: x-position = 1.72%, y-position = 3.20%, z-position = 2.23%. My results here are a little varied, the most accurate simulation was the 6 hour time step. I do believe that my simulation is accurate within an acceptable range of error give that I am missing the outer planets which should effect the inner planets positions. I also believe the lack of accounting for the moon of earth caused that planete to be the least accurate of my calculations."
   ]
  },
  {
   "cell_type": "code",
   "execution_count": null,
   "id": "8ace39a4",
   "metadata": {},
   "outputs": [],
   "source": []
  }
 ],
 "metadata": {
  "kernelspec": {
   "display_name": "Python 3 (ipykernel)",
   "language": "python",
   "name": "python3"
  },
  "language_info": {
   "codemirror_mode": {
    "name": "ipython",
    "version": 3
   },
   "file_extension": ".py",
   "mimetype": "text/x-python",
   "name": "python",
   "nbconvert_exporter": "python",
   "pygments_lexer": "ipython3",
   "version": "3.10.8"
  }
 },
 "nbformat": 4,
 "nbformat_minor": 5
}
