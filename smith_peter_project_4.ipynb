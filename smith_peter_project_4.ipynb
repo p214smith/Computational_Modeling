{
 "cells": [
  {
   "cell_type": "markdown",
   "id": "cc7d41c5",
   "metadata": {},
   "source": [
    "# Project 4: Cellular Automata"
   ]
  },
  {
   "cell_type": "code",
   "execution_count": 1,
   "id": "7e7c5c26",
   "metadata": {},
   "outputs": [
    {
     "data": {
      "text/html": [
       "<div id=\"glowscript\" class=\"glowscript\"></div>"
      ],
      "text/plain": [
       "<IPython.core.display.HTML object>"
      ]
     },
     "metadata": {},
     "output_type": "display_data"
    },
    {
     "data": {
      "application/javascript": [
       "if (typeof Jupyter !== \"undefined\") { window.__context = { glowscript_container: $(\"#glowscript\").removeAttr(\"id\")};}else{ element.textContent = ' ';}"
      ],
      "text/plain": [
       "<IPython.core.display.Javascript object>"
      ]
     },
     "metadata": {},
     "output_type": "display_data"
    }
   ],
   "source": [
    "from vpython import *\n",
    "import numpy as np\n",
    "import random\n",
    "import math"
   ]
  },
  {
   "cell_type": "markdown",
   "id": "52b55766",
   "metadata": {},
   "source": [
    "## Verify the randomness of random number generator"
   ]
  },
  {
   "cell_type": "code",
   "execution_count": 2,
   "id": "73c2e8c2",
   "metadata": {},
   "outputs": [
    {
     "name": "stdout",
     "output_type": "stream",
     "text": [
      "up = 24855\n",
      "down = 25015\n",
      "left = 25134\n",
      "right = 24996\n",
      "\n",
      "up = 25206\n",
      "down = 24854\n",
      "left = 25341\n",
      "right = 24599\n",
      "\n",
      "up = 25062\n",
      "down = 25043\n",
      "left = 24828\n",
      "right = 25067\n"
     ]
    }
   ],
   "source": [
    "up = 0\n",
    "down = 0 \n",
    "left = 0\n",
    "right = 0\n",
    "i = 0\n",
    "while i < 100000:\n",
    "    store = random.randint(1,4)\n",
    "    if store == 1:\n",
    "        up += 1\n",
    "    if store == 2:\n",
    "        down += 1\n",
    "    if store == 3:\n",
    "        left += 1\n",
    "    if store == 4:\n",
    "        right += 1\n",
    "    i += 1\n",
    "print(\"up = \" + str(up))\n",
    "print(\"down = \" + str(down))\n",
    "print(\"left = \" + str(left))\n",
    "print(\"right = \" + str(right))\n",
    "print(\"\")\n",
    "up = 0\n",
    "down = 0 \n",
    "left = 0\n",
    "right = 0\n",
    "i = 0\n",
    "while i < 100000:\n",
    "    store = random.randint(1,4)\n",
    "    if store == 1:\n",
    "        up += 1\n",
    "    if store == 2:\n",
    "        down += 1\n",
    "    if store == 3:\n",
    "        left += 1\n",
    "    if store == 4:\n",
    "        right += 1\n",
    "    i += 1\n",
    "print(\"up = \" + str(up))\n",
    "print(\"down = \" + str(down))\n",
    "print(\"left = \" + str(left))\n",
    "print(\"right = \" + str(right))\n",
    "print(\"\")\n",
    "up = 0\n",
    "down = 0 \n",
    "left = 0\n",
    "right = 0\n",
    "i = 0\n",
    "while i < 100000:\n",
    "    store = random.randint(1,4)\n",
    "    if store == 1:\n",
    "        up += 1\n",
    "    if store == 2:\n",
    "        down += 1\n",
    "    if store == 3:\n",
    "        left += 1\n",
    "    if store == 4:\n",
    "        right += 1\n",
    "    i += 1\n",
    "print(\"up = \" + str(up))\n",
    "print(\"down = \" + str(down))\n",
    "print(\"left = \" + str(left))\n",
    "print(\"right = \" + str(right))"
   ]
  },
  {
   "cell_type": "markdown",
   "id": "59cd604a",
   "metadata": {},
   "source": [
    "Running the randint() function I believe I am getting an appropriate level of randomness to continue with the random walker experiment."
   ]
  },
  {
   "cell_type": "markdown",
   "id": "62b0c74a",
   "metadata": {},
   "source": [
    "## Random walker"
   ]
  },
  {
   "cell_type": "code",
   "execution_count": 3,
   "id": "3ae54cac",
   "metadata": {},
   "outputs": [
    {
     "data": {
      "text/html": [
       "<div id=\"glowscript\" class=\"glowscript\"></div>"
      ],
      "text/plain": [
       "<IPython.core.display.HTML object>"
      ]
     },
     "metadata": {},
     "output_type": "display_data"
    },
    {
     "data": {
      "application/javascript": [
       "if (typeof Jupyter !== \"undefined\") { window.__context = { glowscript_container: $(\"#glowscript\").removeAttr(\"id\")};}else{ element.textContent = ' ';}"
      ],
      "text/plain": [
       "<IPython.core.display.Javascript object>"
      ]
     },
     "metadata": {},
     "output_type": "display_data"
    },
    {
     "data": {
      "application/javascript": [
       "if (typeof Jupyter !== \"undefined\") {require.undef(\"nbextensions/vpython_libraries/glow.min\");}else{element.textContent = ' ';}"
      ],
      "text/plain": [
       "<IPython.core.display.Javascript object>"
      ]
     },
     "metadata": {},
     "output_type": "display_data"
    },
    {
     "data": {
      "application/javascript": [
       "if (typeof Jupyter !== \"undefined\") {require.undef(\"nbextensions/vpython_libraries/glowcomm\");}else{element.textContent = ' ';}"
      ],
      "text/plain": [
       "<IPython.core.display.Javascript object>"
      ]
     },
     "metadata": {},
     "output_type": "display_data"
    },
    {
     "data": {
      "application/javascript": [
       "if (typeof Jupyter !== \"undefined\") {require.undef(\"nbextensions/vpython_libraries/jquery-ui.custom.min\");}else{element.textContent = ' ';}"
      ],
      "text/plain": [
       "<IPython.core.display.Javascript object>"
      ]
     },
     "metadata": {},
     "output_type": "display_data"
    },
    {
     "data": {
      "application/javascript": [
       "if (typeof Jupyter !== \"undefined\") {require([\"nbextensions/vpython_libraries/glow.min\"], function(){console.log(\"GLOW LOADED\");});}else{element.textContent = ' ';}"
      ],
      "text/plain": [
       "<IPython.core.display.Javascript object>"
      ]
     },
     "metadata": {},
     "output_type": "display_data"
    },
    {
     "data": {
      "application/javascript": [
       "if (typeof Jupyter !== \"undefined\") {require([\"nbextensions/vpython_libraries/glowcomm\"], function(){console.log(\"GLOWCOMM LOADED\");});}else{element.textContent = ' ';}"
      ],
      "text/plain": [
       "<IPython.core.display.Javascript object>"
      ]
     },
     "metadata": {},
     "output_type": "display_data"
    },
    {
     "data": {
      "application/javascript": [
       "if (typeof Jupyter !== \"undefined\") {require([\"nbextensions/vpython_libraries/jquery-ui.custom.min\"], function(){console.log(\"JQUERY LOADED\");});}else{element.textContent = ' ';}"
      ],
      "text/plain": [
       "<IPython.core.display.Javascript object>"
      ]
     },
     "metadata": {},
     "output_type": "display_data"
    },
    {
     "name": "stdout",
     "output_type": "stream",
     "text": [
      "11.40175425099138\n"
     ]
    }
   ],
   "source": [
    "scene = canvas()\n",
    "my_box = box(size= vector(1,1,1),pos= vector(0,0,0), color = color.blue,make_trail = True,trail_color = color.red, trail_radius = 0.25)\n",
    "step = 0\n",
    "x = 0\n",
    "y = 0\n",
    "while step < 1000:\n",
    "    rate(75)\n",
    "    store = random.randint(1,4)\n",
    "    if store == 1:\n",
    "        y += 1\n",
    "    if store == 2:\n",
    "        y -= 1\n",
    "    if store == 3:\n",
    "        x -= 1\n",
    "    if store == 4:\n",
    "        x += 1\n",
    "    my_box.pos = vector(x,y,0)\n",
    "    step += 1\n",
    "distance = my_box.pos - vector(0,0,0)\n",
    "print(mag(distance))"
   ]
  },
  {
   "cell_type": "code",
   "execution_count": 4,
   "id": "8d01f262",
   "metadata": {},
   "outputs": [
    {
     "name": "stdout",
     "output_type": "stream",
     "text": [
      "244.8004087913743\n"
     ]
    }
   ],
   "source": [
    "i = 0\n",
    "total = 0\n",
    "while i < 100:\n",
    "    x = 0\n",
    "    y = 0\n",
    "    step = 0\n",
    "    \n",
    "    while step < 100000:\n",
    "        store = random.randint(1,4)\n",
    "        if store == 1:\n",
    "            y += 1\n",
    "        if store == 2:\n",
    "            y -= 1\n",
    "        if store == 3:\n",
    "            x -= 1\n",
    "        if store == 4:\n",
    "            x += 1\n",
    "        distance = vector(x,y,0)- vector(0,0,0)\n",
    "        step +=1\n",
    "    total += mag(distance)\n",
    "    i += 1\n",
    "print(total/100)"
   ]
  },
  {
   "cell_type": "markdown",
   "id": "00f77af1",
   "metadata": {},
   "source": [
    "For this random walker I visualized a walker moving 1000 steps and got an distance of 27.68 from source where the expected value was 31.6. I then ran a non-visualized walker that moved 100000 steps 100 times and got an average distance of 312.41 when the expected distance was 316.23. I believe that these values are within an acceptable margin of error."
   ]
  },
  {
   "cell_type": "markdown",
   "id": "f355345f",
   "metadata": {},
   "source": [
    "## Two-state 1-D Cellular Automata"
   ]
  },
  {
   "cell_type": "code",
   "execution_count": 5,
   "id": "a9ade4b7",
   "metadata": {},
   "outputs": [
    {
     "data": {
      "text/html": [
       "<div id=\"glowscript\" class=\"glowscript\"></div>"
      ],
      "text/plain": [
       "<IPython.core.display.HTML object>"
      ]
     },
     "metadata": {},
     "output_type": "display_data"
    },
    {
     "data": {
      "application/javascript": [
       "if (typeof Jupyter !== \"undefined\") { window.__context = { glowscript_container: $(\"#glowscript\").removeAttr(\"id\")};}else{ element.textContent = ' ';}"
      ],
      "text/plain": [
       "<IPython.core.display.Javascript object>"
      ]
     },
     "metadata": {},
     "output_type": "display_data"
    }
   ],
   "source": [
    "scene = canvas()\n",
    "boxes = np.empty((100,100),dtype = box)\n",
    "i = 0\n",
    "j = 0\n",
    "while i < 100:\n",
    "    j = 0\n",
    "    while j < 100:\n",
    "        boxes[i][j] = box(size= vector(1,1,1),pos= vector(i - 50,j-50,0), color = color.blue)\n",
    "        j +=1\n",
    "    i+=1\n",
    "x=50\n",
    "y=99\n",
    "boxes[x][y].color = color.white\n",
    "\n",
    "i = 99\n",
    "j = 0\n",
    "while i > 0:\n",
    "    j = 0\n",
    "    while j < 100:\n",
    "        rate(500)\n",
    "        left = j - 1\n",
    "        right = j + 1\n",
    "        if left == -1:\n",
    "            left = 99\n",
    "        if right > 99:\n",
    "            right = 0\n",
    "        \n",
    "        if boxes[left][i].color == color.white and boxes[j][i].color == color.blue and boxes[right][i].color == color.blue:\n",
    "            boxes[j][i-1].color = color.white\n",
    "        elif boxes[left][i].color == color.blue and boxes[j][i].color == color.white and boxes[right][i].color == color.white:\n",
    "            boxes[j][i-1].color = color.white\n",
    "        elif boxes[left][i].color == color.blue and boxes[j][i].color == color.white and boxes[right][i].color == color.blue:\n",
    "            boxes[j][i-1].color = color.white\n",
    "        elif boxes[left][i].color == color.blue and boxes[j][i].color == color.blue and boxes[right][i].color == color.white:\n",
    "            boxes[j][i-1].color = color.white\n",
    "        else:\n",
    "            boxes[j][i-1].color = color.blue\n",
    "        j += 1\n",
    "    i -= 1\n",
    "        "
   ]
  },
  {
   "cell_type": "markdown",
   "id": "aa6d1f91",
   "metadata": {},
   "source": [
    "For My one dimensional cellular automata I chose to use rule 30. I chose to do a 100 x 100 grid and for my stopping condition I just wanted to fill the whole grid. This gave me a clear representation of the pattern."
   ]
  },
  {
   "cell_type": "markdown",
   "id": "bfb93edf",
   "metadata": {},
   "source": [
    "## Conway's Game of Life"
   ]
  },
  {
   "cell_type": "code",
   "execution_count": 3,
   "id": "4c0ff200",
   "metadata": {},
   "outputs": [
    {
     "data": {
      "text/html": [
       "<div id=\"glowscript\" class=\"glowscript\"></div>"
      ],
      "text/plain": [
       "<IPython.core.display.HTML object>"
      ]
     },
     "metadata": {},
     "output_type": "display_data"
    },
    {
     "data": {
      "application/javascript": [
       "if (typeof Jupyter !== \"undefined\") { window.__context = { glowscript_container: $(\"#glowscript\").removeAttr(\"id\")};}else{ element.textContent = ' ';}"
      ],
      "text/plain": [
       "<IPython.core.display.Javascript object>"
      ]
     },
     "metadata": {},
     "output_type": "display_data"
    }
   ],
   "source": [
    "scene = canvas()\n",
    "boxes = np.empty((50,50),dtype = box)\n",
    "i = 0\n",
    "j = 0\n",
    "while i < 50:\n",
    "    j = 0\n",
    "    while j < 50:\n",
    "        boxes[i][j] = box(size= vector(1,1,1),pos= vector(i - 25,j-25,0), color = color.blue)\n",
    "        boxes[i][j].state = 0\n",
    "        boxes[i][j].next_state = 0\n",
    "        j +=1\n",
    "    i+=1\n",
    "\n",
    "#glider\n",
    "boxes[40][49].state = 1\n",
    "boxes[42][49].state = 1\n",
    "boxes[41][48].state = 1\n",
    "boxes[42][48].state = 1\n",
    "boxes[41][47].state = 1\n",
    "boxes[40][49].color = color.white\n",
    "boxes[42][49].color = color.white\n",
    "boxes[41][48].color = color.white\n",
    "boxes[42][48].color = color.white\n",
    "boxes[41][47].color = color.white\n",
    "\n",
    "boxes[30][49].state = 1\n",
    "boxes[32][49].state = 1\n",
    "boxes[31][48].state = 1\n",
    "boxes[32][48].state = 1\n",
    "boxes[31][47].state = 1\n",
    "boxes[30][49].color = color.white\n",
    "boxes[32][49].color = color.white\n",
    "boxes[31][48].color = color.white\n",
    "boxes[32][48].color = color.white\n",
    "boxes[31][47].color = color.white\n",
    "#Blocks\n",
    "\n",
    "boxes[25][25].state = 1\n",
    "boxes[25][26].state = 1\n",
    "boxes[26][25].state = 1\n",
    "boxes[26][26].state = 1\n",
    "boxes[25][25].color = color.white\n",
    "boxes[25][26].color = color.white\n",
    "boxes[26][25].color = color.white\n",
    "boxes[26][26].color = color.white\n",
    "\n",
    "boxes[2][2].state = 1\n",
    "boxes[2][3].state = 1\n",
    "boxes[3][2].state = 1\n",
    "boxes[3][3].state = 1\n",
    "boxes[2][2].color = color.white\n",
    "boxes[2][3].color = color.white\n",
    "boxes[3][2].color = color.white\n",
    "boxes[3][3].color = color.white\n",
    "\n",
    "#Heavyweight Spaceship\n",
    "boxes[5][15].state = 1\n",
    "boxes[6][15].state = 1\n",
    "boxes[7][15].state = 1\n",
    "boxes[8][15].state = 1\n",
    "boxes[9][15].state = 1\n",
    "boxes[10][15].state = 1\n",
    "boxes[4][14].state = 1\n",
    "boxes[10][14].state = 1\n",
    "boxes[10][13].state = 1\n",
    "boxes[4][12].state = 1\n",
    "boxes[9][12].state = 1\n",
    "boxes[6][11].state = 1\n",
    "boxes[7][11].state = 1\n",
    "boxes[5][15].color = color.white\n",
    "boxes[6][15].color = color.white\n",
    "boxes[7][15].color = color.white\n",
    "boxes[8][15].color = color.white\n",
    "boxes[9][15].color = color.white\n",
    "boxes[10][15].color = color.white\n",
    "boxes[4][14].color = color.white\n",
    "boxes[10][14].color = color.white\n",
    "boxes[10][13].color = color.white\n",
    "boxes[4][12].color = color.white\n",
    "boxes[9][12].color = color.white\n",
    "boxes[6][11].color = color.white\n",
    "boxes[7][11].color = color.white\n",
    "\n",
    "#penta-decathlon\n",
    "boxes[5][35].state = 1\n",
    "boxes[6][35].state = 1\n",
    "boxes[7][35].state = 1\n",
    "boxes[4][33].state = 1\n",
    "boxes[8][33].state = 1\n",
    "boxes[4][32].state = 1\n",
    "boxes[8][32].state = 1\n",
    "boxes[5][30].state = 1\n",
    "boxes[6][30].state = 1\n",
    "boxes[7][30].state = 1\n",
    "boxes[5][27].state = 1\n",
    "boxes[6][27].state = 1\n",
    "boxes[7][27].state = 1\n",
    "boxes[4][25].state = 1\n",
    "boxes[8][25].state = 1\n",
    "boxes[4][24].state = 1\n",
    "boxes[8][24].state = 1\n",
    "boxes[5][22].state = 1\n",
    "boxes[6][22].state = 1\n",
    "boxes[7][22].state = 1\n",
    "boxes[5][35].color = color.white\n",
    "boxes[6][35].color = color.white\n",
    "boxes[7][35].color = color.white\n",
    "boxes[4][33].color = color.white\n",
    "boxes[8][33].color = color.white\n",
    "boxes[4][32].color = color.white\n",
    "boxes[8][32].color = color.white\n",
    "boxes[5][30].color = color.white\n",
    "boxes[6][30].color = color.white\n",
    "boxes[7][30].color = color.white\n",
    "boxes[5][27].color = color.white\n",
    "boxes[6][27].color = color.white\n",
    "boxes[7][27].color = color.white\n",
    "boxes[4][25].color = color.white\n",
    "boxes[8][25].color = color.white\n",
    "boxes[4][24].color = color.white\n",
    "boxes[8][24].color = color.white\n",
    "boxes[5][22].color = color.white\n",
    "boxes[6][22].color = color.white\n",
    "boxes[7][22].color = color.white\n",
    "\n",
    "i = 0\n",
    "j = 0\n",
    "step = 0\n",
    "while step < 250:\n",
    "    rate(10)\n",
    "    i = 0\n",
    "    while i < 50:\n",
    "        j = 0\n",
    "        while j < 50:\n",
    "            left = i -1\n",
    "            right = i + 1\n",
    "            up = j + 1\n",
    "            down = j - 1\n",
    "            if left == -1:\n",
    "                left = 49\n",
    "            if right > 49:\n",
    "                right = 0\n",
    "            if down == -1:\n",
    "                down = 49\n",
    "            if up > 49:\n",
    "                up = 0\n",
    "            neighbor = boxes[left][up].state + boxes[left][j].state + boxes[left][down].state + boxes[i][up].state + boxes[i][down].state + boxes[right][up].state + boxes[right][j].state + boxes[right][down].state\n",
    "            if boxes[i][j].state == 0 and neighbor == 3:\n",
    "                boxes[i][j].next_state = 1\n",
    "            elif boxes[i][j].state == 1 and (neighbor == 2 or neighbor == 3):\n",
    "                boxes[i][j].next_state = 1\n",
    "            else:\n",
    "                boxes[i][j].next_state = 0\n",
    "            j +=1\n",
    "        i +=1\n",
    "    i = 0\n",
    "    j = 0\n",
    "    while i < 50:\n",
    "        j = 0\n",
    "        while j < 50:\n",
    "            boxes[i][j].state = boxes[i][j].next_state\n",
    "            if boxes[i][j].state == 1:\n",
    "                boxes[i][j].color = color.white\n",
    "            else:\n",
    "                boxes[i][j].color = color.blue\n",
    "            j +=1\n",
    "        i+=1\n",
    "    step += 1"
   ]
  },
  {
   "cell_type": "markdown",
   "id": "75cf09a9",
   "metadata": {},
   "source": [
    "For my game of life i decided to test two still lifes, in the form of cubes, two gliders, a heavyweight spaceship, and a penta-decathlon. All objects act appropriately and there are very interesting results when some of the objects collide."
   ]
  },
  {
   "cell_type": "markdown",
   "id": "3fd0a553",
   "metadata": {},
   "source": [
    "## Conway's Game of Life with Random independent updates\n",
    "\n",
    "during each step i will update 10 randomly selected boxes"
   ]
  },
  {
   "cell_type": "code",
   "execution_count": 7,
   "id": "27e16b46",
   "metadata": {},
   "outputs": [
    {
     "data": {
      "text/html": [
       "<div id=\"glowscript\" class=\"glowscript\"></div>"
      ],
      "text/plain": [
       "<IPython.core.display.HTML object>"
      ]
     },
     "metadata": {},
     "output_type": "display_data"
    },
    {
     "data": {
      "application/javascript": [
       "if (typeof Jupyter !== \"undefined\") { window.__context = { glowscript_container: $(\"#glowscript\").removeAttr(\"id\")};}else{ element.textContent = ' ';}"
      ],
      "text/plain": [
       "<IPython.core.display.Javascript object>"
      ]
     },
     "metadata": {},
     "output_type": "display_data"
    }
   ],
   "source": [
    "scene = canvas()\n",
    "boxes = np.empty((50,50),dtype = box)\n",
    "i = 0\n",
    "j = 0\n",
    "while i < 50:\n",
    "    j = 0\n",
    "    while j < 50:\n",
    "        boxes[i][j] = box(size= vector(1,1,1),pos= vector(i - 25,j-25,0), color = color.blue)\n",
    "        state_select = random.randint(1,5)\n",
    "        boxes[i][j].state_changed = False\n",
    "        if state_select == 1:\n",
    "            boxes[i][j].state = 1\n",
    "            boxes[i][j].color = color.white\n",
    "        else:\n",
    "            boxes[i][j].state = 0\n",
    "        boxes[i][j].next_state = 0\n",
    "        j +=1\n",
    "    i+=1\n",
    "\n",
    "step = 0\n",
    "while step < 500:\n",
    "    rate(10)\n",
    "    update = 0\n",
    "    while update < 10:\n",
    "        i = random.randint(0,49)\n",
    "        j = random.randint(0,49)\n",
    "        left = i -1\n",
    "        right = i + 1\n",
    "        up = j + 1\n",
    "        down = j - 1\n",
    "        if left == -1:\n",
    "            left = 49\n",
    "        if right > 49:\n",
    "            right = 0\n",
    "        if down == -1:\n",
    "            down = 49\n",
    "        if up > 49:\n",
    "            up = 0\n",
    "        neighbor = boxes[left][up].state + boxes[left][j].state + boxes[left][down].state + boxes[i][up].state + boxes[i][down].state + boxes[right][up].state + boxes[right][j].state + boxes[right][down].state\n",
    "        if boxes[i][j].state == 0 and neighbor == 3:\n",
    "            boxes[i][j].next_state = 1\n",
    "        elif boxes[i][j].state == 1 and (neighbor == 2 or neighbor == 3):\n",
    "            boxes[i][j].next_state = 1\n",
    "        else:\n",
    "            boxes[i][j].next_state = 0\n",
    "        boxes[i][j].state_changed = True\n",
    "        update +=1\n",
    "    \n",
    "    i = 0\n",
    "    j = 0\n",
    "    while i < 50:\n",
    "        j = 0\n",
    "        while j < 50:\n",
    "            if boxes[i][j].state_changed == True:\n",
    "                boxes[i][j].state = boxes[i][j].next_state\n",
    "                if boxes[i][j].state == 1:\n",
    "                    boxes[i][j].color = color.white\n",
    "                else:\n",
    "                    boxes[i][j].color = color.blue\n",
    "                boxes[i][j].state_changed = False\n",
    "            j +=1\n",
    "        i+=1\n",
    "    step += 1"
   ]
  },
  {
   "cell_type": "markdown",
   "id": "a209b0fd",
   "metadata": {},
   "source": [
    "For you asynchronous update I did a random indepedent update, where ten cells woud update at each time step. For this I decided to randomly assign living and dead cells. What you could see in the patterns that formed are the still lifes would form in spots and would stop updating developed enough space. Other than that the patterns that developed would lose shape due to the random updates."
   ]
  },
  {
   "cell_type": "code",
   "execution_count": null,
   "id": "ea65140d",
   "metadata": {},
   "outputs": [],
   "source": []
  }
 ],
 "metadata": {
  "kernelspec": {
   "display_name": "Python 3 (ipykernel)",
   "language": "python",
   "name": "python3"
  },
  "language_info": {
   "codemirror_mode": {
    "name": "ipython",
    "version": 3
   },
   "file_extension": ".py",
   "mimetype": "text/x-python",
   "name": "python",
   "nbconvert_exporter": "python",
   "pygments_lexer": "ipython3",
   "version": "3.10.8"
  }
 },
 "nbformat": 4,
 "nbformat_minor": 5
}
