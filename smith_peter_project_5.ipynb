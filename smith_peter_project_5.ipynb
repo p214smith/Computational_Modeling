{
 "cells": [
  {
   "cell_type": "markdown",
   "id": "d8d70643",
   "metadata": {},
   "source": [
    "# Project 5: Logic Networks"
   ]
  },
  {
   "cell_type": "code",
   "execution_count": 8,
   "id": "d20e7f1e",
   "metadata": {},
   "outputs": [],
   "source": [
    "from vpython import *\n",
    "import numpy as np\n",
    "%matplotlib ipympl\n",
    "import random\n",
    "import matplotlib.pyplot as plt\n",
    "from queue import PriorityQueue"
   ]
  },
  {
   "cell_type": "markdown",
   "id": "14d0eab5",
   "metadata": {},
   "source": [
    "## Events Class"
   ]
  },
  {
   "cell_type": "code",
   "execution_count": 9,
   "id": "09ad9e83",
   "metadata": {},
   "outputs": [],
   "source": [
    "class Event:\n",
    "    def __init__(self,time,target, value):\n",
    "        self.time = time\n",
    "        self.target = target\n",
    "        self.value = value\n",
    "    def __gt__(self,other):\n",
    "        if(self.time>other.time):\n",
    "            return True\n",
    "        else:\n",
    "            return False\n",
    "    def __lt__(self,other):\n",
    "        if(self.time<other.time):\n",
    "            return True\n",
    "        else:\n",
    "            return False\n",
    "    def __ge__(self,other):\n",
    "        if(self.time>=other.time):\n",
    "            return True\n",
    "        else:\n",
    "            return False\n",
    "    def __le__(self,other):\n",
    "        if (self.time<=other.time):\n",
    "            return True\n",
    "        else: \n",
    "            return False\n",
    "    def __eq__(self,other):\n",
    "        if(self.time == other.time):\n",
    "            return True\n",
    "        else:\n",
    "            return False\n",
    "    def __ne__(self,other):\n",
    "        if(self.time != other.time):\n",
    "            return True\n",
    "        else:\n",
    "            return False"
   ]
  },
  {
   "cell_type": "markdown",
   "id": "37b07701",
   "metadata": {},
   "source": [
    "## Nets Class"
   ]
  },
  {
   "cell_type": "code",
   "execution_count": 10,
   "id": "d9539389",
   "metadata": {},
   "outputs": [],
   "source": [
    "class Nets:\n",
    "    def __init__(self,node_number,destination):\n",
    "        self.node_number = node_number\n",
    "        self.value = 0.5\n",
    "        self.destination = destination\n",
    "        self.delay = 1\n",
    "        self.time = 0\n",
    "        self.prev = 0.5\n",
    "    def update_value(self,time, value, pq):\n",
    "        self.value = value\n",
    "        self.time = time\n",
    "        if (self.destination != 100):\n",
    "            pq.put(Event(time + self.delay,self.destination,self.value))   \n",
    "          \n",
    "    def set_destination(self,destination):\n",
    "        self.destination = destination\n",
    "    \n",
    "    "
   ]
  },
  {
   "cell_type": "markdown",
   "id": "c245a526",
   "metadata": {},
   "source": [
    "## Gates Class\n",
    "I found delay times from article attached. to make the graphs cleaner I rounded 1 ps for the NOR gate and 2 for the NAND gate.\n",
    "https://acadpubl.eu/jsi/2018-118-18/articles/18e/3.pdf"
   ]
  },
  {
   "cell_type": "code",
   "execution_count": 23,
   "id": "1d434ba9",
   "metadata": {},
   "outputs": [],
   "source": [
    "class Gates:\n",
    "    def __init__(self,source_1,source_2,node_number,destination,destination_2,gate_type):\n",
    "        self.source_1 = source_1\n",
    "        self.source_2 = source_2\n",
    "        self.node_number = node_number\n",
    "        self.destination = destination\n",
    "        self.destination_2 = destination_2\n",
    "        self.type = gate_type \n",
    "        self.delay = 0\n",
    "        self.time = 0\n",
    "        self.prev = 0.5\n",
    "        if (self.type == 0):\n",
    "            if (self.source_1.value == 1 and self.source_2.value == 1):\n",
    "                self.value = 0\n",
    "            else:\n",
    "                self.value = 1\n",
    "            self.delay = 2\n",
    "        else:\n",
    "            if (self.source_1.value == 0 and self.source_2.value == 0):\n",
    "                self.value = 1\n",
    "            else:\n",
    "                self.value = 0\n",
    "            self.delay = 1\n",
    "            \n",
    "    def update_value(self,time,value,pq):\n",
    "        if (self.type == 0):\n",
    "            if (self.source_1.value == 1 and self.source_2.value == 1):\n",
    "                self.value = 0\n",
    "            else:\n",
    "                self.value = 1\n",
    "            self.delay = 2\n",
    "            self.time = time\n",
    "        else:\n",
    "            if (self.source_1.value == 0 and self.source_2.value ==0):\n",
    "                self.value = 1\n",
    "            else:\n",
    "                self.value = 0\n",
    "            self.delay = 1\n",
    "            self.time = time\n",
    "        if (self.prev != self.value):\n",
    "            self.prev = self.value\n",
    "            if (self.destination_2 != 100):\n",
    "                pq.put(Event(time + self.delay,self.destination_2,self.value))\n",
    "            pq.put(Event(time + self.delay,self.destination,self.value))\n",
    "         \n",
    "    def set_source2(self,destination):\n",
    "        self.source_2 = destination"
   ]
  },
  {
   "cell_type": "markdown",
   "id": "e3fc67fb",
   "metadata": {},
   "source": [
    "## Nand Gate \n",
    "    "
   ]
  },
  {
   "cell_type": "code",
   "execution_count": 24,
   "id": "1e961123",
   "metadata": {},
   "outputs": [
    {
     "data": {
      "text/html": [
       "<div id=\"glowscript\" class=\"glowscript\"></div>"
      ],
      "text/plain": [
       "<IPython.core.display.HTML object>"
      ]
     },
     "metadata": {},
     "output_type": "display_data"
    },
    {
     "data": {
      "application/javascript": [
       "if (typeof Jupyter !== \"undefined\") { window.__context = { glowscript_container: $(\"#glowscript\").removeAttr(\"id\")};}else{ element.textContent = ' ';}"
      ],
      "text/plain": [
       "<IPython.core.display.Javascript object>"
      ]
     },
     "metadata": {},
     "output_type": "display_data"
    }
   ],
   "source": [
    "scene = canvas()\n",
    "events_Queue = PriorityQueue()\n",
    "network = []\n",
    "source_1 = Nets(0,2)\n",
    "source_2 = Nets(1,2)\n",
    "network.append(source_1)\n",
    "network.append(source_2)\n",
    "gate_1 = Gates(source_1,source_2,2,3,100,0)\n",
    "network.append(gate_1)\n",
    "end = Nets(3,100)\n",
    "network.append(end)\n",
    "event1 = Event(0,0,0)\n",
    "event2 = Event(0,1,0)\n",
    "events_Queue.put(event1)\n",
    "events_Queue.put(event2)\n",
    "time = 0\n",
    "i = 1\n",
    "graph1 = graph(title = \"Source 1\",ytitle = \"value\",xtitle = \"time [ps]\",height = 200)\n",
    "g2 = gcurve(color = color.red)\n",
    "graph3 = graph(title = \"Source 2\",ytitle = \"value\",xtitle = \"time [ps]\",height = 200)\n",
    "g3 = gcurve(color = color.green)\n",
    "graph2 = graph(title = \"Output\",ytitle = \"value\",xtitle = \"time [ps]\",height = 200)\n",
    "g1 = gcurve(color = color.blue)\n",
    "while( i < 10):\n",
    "    events_Queue.put(Event(i*10,0,random.randint(0,1)))\n",
    "    events_Queue.put(Event(i*10,1,random.randint(0,1)))\n",
    "    events_Queue.put(Event((i+1)*10,0,random.randint(0,1)))\n",
    "    events_Queue.put(Event((i+1)*10,1,random.randint(0,1)))\n",
    "    i += 2\n",
    "while (events_Queue.empty()== False):\n",
    "    event = events_Queue.get()\n",
    "    time = event.time\n",
    "    g2.plot(pos=[time,source_1.value])\n",
    "    g3.plot(pos=[time,source_2.value])\n",
    "    g1.plot(pos=[time,end.value])\n",
    "    network[event.target].update_value(time,event.value,events_Queue)\n",
    "    g2.plot(pos=[source_1.time,source_1.value])\n",
    "    g3.plot(pos=[source_2.time,source_2.value])\n",
    "    g1.plot(pos=[end.time,end.value])\n"
   ]
  },
  {
   "cell_type": "markdown",
   "id": "7e3c3f8e",
   "metadata": {},
   "source": [
    "## Nor Gate"
   ]
  },
  {
   "cell_type": "code",
   "execution_count": 17,
   "id": "ba678b26",
   "metadata": {},
   "outputs": [
    {
     "data": {
      "text/html": [
       "<div id=\"glowscript\" class=\"glowscript\"></div>"
      ],
      "text/plain": [
       "<IPython.core.display.HTML object>"
      ]
     },
     "metadata": {},
     "output_type": "display_data"
    },
    {
     "data": {
      "application/javascript": [
       "if (typeof Jupyter !== \"undefined\") { window.__context = { glowscript_container: $(\"#glowscript\").removeAttr(\"id\")};}else{ element.textContent = ' ';}"
      ],
      "text/plain": [
       "<IPython.core.display.Javascript object>"
      ]
     },
     "metadata": {},
     "output_type": "display_data"
    }
   ],
   "source": [
    "scene = canvas()\n",
    "events_Queue = PriorityQueue()\n",
    "network = []\n",
    "source_1 = Nets(0,2)\n",
    "source_2 = Nets(1,2)\n",
    "network.append(source_1)\n",
    "network.append(source_2)\n",
    "gate_1 = Gates(source_1,source_2,2,3,100,1)\n",
    "network.append(gate_1)\n",
    "end = Nets(3,100)\n",
    "network.append(end)\n",
    "event1 = Event(0,0,0)\n",
    "event2 = Event(0,1,0)\n",
    "events_Queue.put(event1)\n",
    "events_Queue.put(event2)\n",
    "time = 0\n",
    "i = 1\n",
    "graph1 = graph(title = \"Source 1\",ytitle = \"value\",xtitle = \"time [ps]\",height = 200)\n",
    "g2 = gcurve(color = color.red)\n",
    "graph3 = graph(title = \"Source 2\",ytitle = \"value\",xtitle = \"time [ps]\",height = 200)\n",
    "g3 = gcurve(color = color.green)\n",
    "graph2 = graph(title = \"Output\",ytitle = \"value\",xtitle = \"time [ps]\",height = 200)\n",
    "g1 = gcurve(color = color.blue)\n",
    "while( i < 10):\n",
    "    events_Queue.put(Event(i*10,0,random.randint(0,1)))\n",
    "    events_Queue.put(Event(i*10,1,random.randint(0,1)))\n",
    "    events_Queue.put(Event((i+1)*10,0,random.randint(0,1)))\n",
    "    events_Queue.put(Event((i+1)*10,1,random.randint(0,1)))\n",
    "    i += 2\n",
    "while (events_Queue.empty()== False):\n",
    "    event = events_Queue.get()\n",
    "    time = event.time\n",
    "    \n",
    "    g2.plot(pos=[time,source_1.value])\n",
    "    g3.plot(pos=[time,source_2.value])\n",
    "    g1.plot(pos=[time,end.value])\n",
    "    network[event.target].update_value(time,event.value,events_Queue)\n",
    "    g2.plot(pos=[time,source_1.value])\n",
    "    g3.plot(pos=[time,source_2.value])\n",
    "    g1.plot(pos=[time,end.value])\n"
   ]
  },
  {
   "cell_type": "markdown",
   "id": "3fe8c815",
   "metadata": {},
   "source": [
    "## Sequential Circuit Nand Gate"
   ]
  },
  {
   "cell_type": "code",
   "execution_count": 18,
   "id": "d8a174e4",
   "metadata": {},
   "outputs": [
    {
     "data": {
      "text/html": [
       "<div id=\"glowscript\" class=\"glowscript\"></div>"
      ],
      "text/plain": [
       "<IPython.core.display.HTML object>"
      ]
     },
     "metadata": {},
     "output_type": "display_data"
    },
    {
     "data": {
      "application/javascript": [
       "if (typeof Jupyter !== \"undefined\") { window.__context = { glowscript_container: $(\"#glowscript\").removeAttr(\"id\")};}else{ element.textContent = ' ';}"
      ],
      "text/plain": [
       "<IPython.core.display.Javascript object>"
      ]
     },
     "metadata": {},
     "output_type": "display_data"
    }
   ],
   "source": [
    "scene = canvas()\n",
    "events_Queue = PriorityQueue()\n",
    "network = []\n",
    "source_0 = Nets(0,2)\n",
    "source_1 = Nets(1,3)\n",
    "network.append(source_0)\n",
    "network.append(source_1)\n",
    "gate_2 = Gates(source_0,source_0,2,4,100,0)\n",
    "network.append(gate_2)\n",
    "gate_3 = Gates(source_1,source_1,3,5,100,0)\n",
    "network.append(gate_3)\n",
    "net_4 = Nets(4,6)\n",
    "network.append(net_4)\n",
    "net_5 = Nets(5,6)\n",
    "network.append(net_5)\n",
    "gate_6 = Gates(net_4,net_5,6,7,100,0)\n",
    "network.append(gate_6)\n",
    "end = Nets(7,100)\n",
    "network.append(end)\n",
    "event1 = Event(0,0,0)\n",
    "event2 = Event(0,1,1)\n",
    "events_Queue.put(event1)\n",
    "events_Queue.put(event2)\n",
    "time = 0\n",
    "i = 1\n",
    "graph1 = graph(title = \"Source 1\",ytitle = \"value\",xtitle = \"time [ps]\",height = 200)\n",
    "g1 = gcurve(color = color.red)\n",
    "graph2 = graph(title = \"Source 2\",ytitle = \"value\",xtitle = \"time [ps]\",height = 200)\n",
    "g2 = gcurve(color = color.green)\n",
    "graph3 = graph(title = \"Net 4\",ytitle = \"value\",xtitle = \"time [ps]\",height = 200)\n",
    "g3 = gcurve(color = color.yellow)\n",
    "graph4 = graph(title = \"Net 5\",ytitle = \"value\",xtitle = \"time [ps]\",height = 200)\n",
    "g4 = gcurve(color = color.cyan)\n",
    "graph7 = graph(title = \"Output\",ytitle = \"value\",xtitle = \"time [ps]\",height = 200)\n",
    "g7 = gcurve(color = color.blue)\n",
    "while( i < 10):\n",
    "    events_Queue.put(Event(i*10,0,random.randint(0,1)))\n",
    "    events_Queue.put(Event(i*10,1,random.randint(0,1)))\n",
    "\n",
    "    events_Queue.put(Event((i+1)*10,0,random.randint(0,1)))\n",
    "    events_Queue.put(Event((i+1)*10,1,random.randint(0,1)))\n",
    "\n",
    "    i += 2\n",
    "while (events_Queue.empty()== False):\n",
    "    event = events_Queue.get()\n",
    "    time = event.time\n",
    "    g1.plot(pos=[time,source_0.value])\n",
    "    g2.plot(pos=[time,source_1.value])\n",
    "    g3.plot(pos=[time,net_4.value])\n",
    "    g4.plot(pos=[time,net_5.value])\n",
    "    g7.plot(pos=[time,end.value])\n",
    "    \n",
    "    network[event.target].update_value(time,event.value,events_Queue)\n",
    "    g1.plot(pos=[time,source_0.value])\n",
    "    g2.plot(pos=[time,source_1.value])\n",
    "    g3.plot(pos=[time,net_4.value])\n",
    "    g4.plot(pos=[time,net_5.value])\n",
    "    g7.plot(pos=[time,end.value])\n"
   ]
  },
  {
   "cell_type": "markdown",
   "id": "f1f8adca",
   "metadata": {},
   "source": [
    "For the sequential Nand circuit I created a nor gate by tying gate 1 to one source and gate 2 one source. From my graphs you can see that when both sources are low the output is high after delay. You can also see the intermediate nets between gates to verify the correct outputs."
   ]
  },
  {
   "cell_type": "markdown",
   "id": "f6f7d806",
   "metadata": {},
   "source": [
    "## Sequential Circuit Nor Gate"
   ]
  },
  {
   "cell_type": "code",
   "execution_count": 19,
   "id": "bf977c7e",
   "metadata": {},
   "outputs": [
    {
     "data": {
      "text/html": [
       "<div id=\"glowscript\" class=\"glowscript\"></div>"
      ],
      "text/plain": [
       "<IPython.core.display.HTML object>"
      ]
     },
     "metadata": {},
     "output_type": "display_data"
    },
    {
     "data": {
      "application/javascript": [
       "if (typeof Jupyter !== \"undefined\") { window.__context = { glowscript_container: $(\"#glowscript\").removeAttr(\"id\")};}else{ element.textContent = ' ';}"
      ],
      "text/plain": [
       "<IPython.core.display.Javascript object>"
      ]
     },
     "metadata": {},
     "output_type": "display_data"
    }
   ],
   "source": [
    "scene = canvas()\n",
    "events_Queue = PriorityQueue()\n",
    "network = []\n",
    "source_0 = Nets(0,2)\n",
    "source_1 = Nets(1,3)\n",
    "network.append(source_0)\n",
    "network.append(source_1)\n",
    "gate_2 = Gates(source_0,source_0,2,4,100,1)\n",
    "network.append(gate_2)\n",
    "gate_3 = Gates(source_1,source_1,3,5,100,1)\n",
    "network.append(gate_3)\n",
    "net_4 = Nets(4,6)\n",
    "network.append(net_4)\n",
    "net_5 = Nets(5,6)\n",
    "network.append(net_5)\n",
    "gate_6 = Gates(net_4,net_5,6,7,100,1)\n",
    "network.append(gate_6)\n",
    "end = Nets(7,100)\n",
    "network.append(end)\n",
    "event1 = Event(0,0,0)\n",
    "event2 = Event(0,1,1)\n",
    "events_Queue.put(event1)\n",
    "events_Queue.put(event2)\n",
    "time = 0\n",
    "i = 1\n",
    "graph1 = graph(title = \"Source 1\",ytitle = \"value\",xtitle = \"time [ps]\",height = 200)\n",
    "g1 = gcurve(color = color.red)\n",
    "graph2 = graph(title = \"Source 2\",ytitle = \"value\",xtitle = \"time [ps]\",height = 200)\n",
    "g2 = gcurve(color = color.green)\n",
    "graph3 = graph(title = \"Net 4\",ytitle = \"value\",xtitle = \"time [ps]\",height = 200)\n",
    "g3 = gcurve(color = color.yellow)\n",
    "graph4 = graph(title = \"Net 5\",ytitle = \"value\",xtitle = \"time [ps]\",height = 200)\n",
    "g4 = gcurve(color = color.cyan)\n",
    "graph7 = graph(title = \"Output\",ytitle = \"value\",xtitle = \"time [ps]\",height = 200)\n",
    "g7 = gcurve(color = color.blue)\n",
    "while( i < 10):\n",
    "    events_Queue.put(Event(i*10,0,random.randint(0,1)))\n",
    "    events_Queue.put(Event(i*10,1,random.randint(0,1)))\n",
    "\n",
    "    events_Queue.put(Event((i+1)*10,0,random.randint(0,1)))\n",
    "    events_Queue.put(Event((i+1)*10,1,random.randint(0,1)))\n",
    "\n",
    "    i += 2\n",
    "while (events_Queue.empty()== False):\n",
    "    event = events_Queue.get()\n",
    "    time = event.time\n",
    "    g1.plot(pos=[time,source_0.value])\n",
    "    g2.plot(pos=[time,source_1.value])\n",
    "    g3.plot(pos=[time,net_4.value])\n",
    "    g4.plot(pos=[time,net_5.value])\n",
    "    g7.plot(pos=[time,end.value])\n",
    "    \n",
    "    network[event.target].update_value(time,event.value,events_Queue)\n",
    "    g1.plot(pos=[time,source_0.value])\n",
    "    g2.plot(pos=[time,source_1.value])\n",
    "    g3.plot(pos=[time,net_4.value])\n",
    "    g4.plot(pos=[time,net_5.value])\n",
    "    g7.plot(pos=[time,end.value])\n"
   ]
  },
  {
   "cell_type": "markdown",
   "id": "b7996fc6",
   "metadata": {},
   "source": [
    "For the sequential NOR circuit I created an AND gate by tying gate 1 to one source and gate 2 one source. From my graphs you can see that when both sources are high the output is high after delay. You can also see the intermediate nets between gates to verify the correct outputs."
   ]
  },
  {
   "cell_type": "code",
   "execution_count": null,
   "id": "586a3ef8",
   "metadata": {},
   "outputs": [],
   "source": []
  },
  {
   "cell_type": "code",
   "execution_count": 34,
   "id": "916f8b53",
   "metadata": {},
   "outputs": [
    {
     "data": {
      "text/html": [
       "<div id=\"glowscript\" class=\"glowscript\"></div>"
      ],
      "text/plain": [
       "<IPython.core.display.HTML object>"
      ]
     },
     "metadata": {},
     "output_type": "display_data"
    },
    {
     "data": {
      "application/javascript": [
       "if (typeof Jupyter !== \"undefined\") { window.__context = { glowscript_container: $(\"#glowscript\").removeAttr(\"id\")};}else{ element.textContent = ' ';}"
      ],
      "text/plain": [
       "<IPython.core.display.Javascript object>"
      ]
     },
     "metadata": {},
     "output_type": "display_data"
    }
   ],
   "source": [
    "scene = canvas()\n",
    "events_Queue = PriorityQueue()\n",
    "network = []\n",
    "source_0 = Nets(0,2)\n",
    "source_1 = Nets(1,3)\n",
    "network.append(source_0)\n",
    "network.append(source_1)\n",
    "gate_2 = Gates(source_0,source_1,2,4,5,0)\n",
    "network.append(gate_2)\n",
    "gate_3 = Gates(net_5,source_1,3,6,100,0)\n",
    "network.append(gate_3)\n",
    "net_4 = Nets(4,7)\n",
    "network.append(net_4)\n",
    "net_5 = Nets(5,3)\n",
    "network.append(net_5)\n",
    "net_6 = Nets(6,8)\n",
    "network.append(net_6)\n",
    "gate_7 = Gates(net_4,net_6,7,9,10,0)\n",
    "network.append(gate_7)\n",
    "gate_8 = Gates(net_6,net_6,8,11,12,0)\n",
    "network.append(gate_8)\n",
    "Q_out = Nets(9,100)\n",
    "network.append(Q_out)\n",
    "net_10 = Nets(10,8)\n",
    "network.append(net_10)\n",
    "net_11 = Nets(11,7)\n",
    "network.append(net_11)\n",
    "Q_inv = Nets(12,100)\n",
    "network.append(Q_inv)\n",
    "gate_7.set_source2(net_11)\n",
    "gate_8.set_source2(net_10)\n",
    "event1 = Event(0,0,0)\n",
    "event2 = Event(0,1,1)\n",
    "events_Queue.put(event1)\n",
    "events_Queue.put(event2)\n",
    "time = 0\n",
    "i = 1\n",
    "graph1 = graph(title = \"Source\",ytitle = \"value\",xtitle = \"time [ps]\",height = 200)\n",
    "g1 = gcurve(color = color.red)\n",
    "graph2 = graph(title = \"Enable\",ytitle = \"value\",xtitle = \"time [ps]\",height = 200)\n",
    "g2 = gcurve(color = color.green)\n",
    "graph3 = graph(title = \"Net 4\",ytitle = \"value\",xtitle = \"time [ps]\",height = 200)\n",
    "g3 = gcurve(color = color.yellow)\n",
    "graph4 = graph(title = \"Net 5\",ytitle = \"value\",xtitle = \"time [ps]\",height = 200)\n",
    "g4 = gcurve(color = color.cyan)\n",
    "graph5 = graph(title = \"Net 6\",ytitle = \"value\",xtitle = \"time [ps]\",height = 200)\n",
    "g5 = gcurve(color = color.orange)\n",
    "graph6 = graph(title = \"Net 10\",ytitle = \"value\",xtitle = \"time [ps]\",height = 200)\n",
    "g6 = gcurve(color = color.magenta)\n",
    "graph7 = graph(title = \"Net 11\",ytitle = \"value\",xtitle = \"time [ps]\",height = 200)\n",
    "g7 = gcurve(color = color.blue)\n",
    "graph8 = graph(title = \"Q out\",ytitle = \"value\",xtitle = \"time [ps]\",height = 200)\n",
    "g8 = gcurve(color = color.black)\n",
    "graph9 = graph(title = \"Q inv\",ytitle = \"value\",xtitle = \"time [ps]\",height = 200)\n",
    "g9 = gcurve(color = color.purple)\n",
    "while( i < 10):\n",
    "    events_Queue.put(Event(i*10,0,random.randint(0,1)))\n",
    "    events_Queue.put(Event(i*10,1,random.randint(0,1)))\n",
    "\n",
    "    events_Queue.put(Event((i+1)*10,0,random.randint(0,1)))\n",
    "    events_Queue.put(Event((i+1)*10,1,random.randint(0,1)))\n",
    "\n",
    "    i += 2\n",
    "while (events_Queue.empty()== False):\n",
    "    event = events_Queue.get()\n",
    "    time = event.time\n",
    "    g1.plot(pos=[time,source_0.value])\n",
    "    g2.plot(pos=[time,source_1.value])\n",
    "    g3.plot(pos=[time,net_4.value])\n",
    "    g4.plot(pos=[time,net_5.value])\n",
    "    g5.plot(pos=[time,net_6.value])\n",
    "    g6.plot(pos=[time,net_10.value])\n",
    "    g7.plot(pos=[time,net_11.value])\n",
    "    g8.plot(pos=[time,Q_out.value])\n",
    "    g9.plot(pos=[time,Q_inv.value])\n",
    "    \n",
    "    network[event.target].update_value(time,event.value,events_Queue)\n",
    "    g1.plot(pos=[time,source_0.value])\n",
    "    g2.plot(pos=[time,source_1.value])\n",
    "    g3.plot(pos=[time,net_4.value])\n",
    "    g4.plot(pos=[time,net_5.value])\n",
    "    g5.plot(pos=[time,net_6.value])\n",
    "    g6.plot(pos=[time,net_10.value])\n",
    "    g7.plot(pos=[time,net_11.value])\n",
    "    g8.plot(pos=[time,Q_out.value])\n",
    "    g9.plot(pos=[time,Q_inv.value])\n"
   ]
  },
  {
   "cell_type": "markdown",
   "id": "ace38d97",
   "metadata": {},
   "source": [
    "When working with the newtorks with feedback(sequential) I had to edit my classes to allow for multiple destinations from one gate. When reading the the graphs the ouput toggles before setting itself. I was able to verify that my latch is working properly by matching the graphs to a truth table. When doing the combinational circuits it is a lot easier to verify the proper circuit because there is no toggling of the output circuit."
   ]
  },
  {
   "cell_type": "code",
   "execution_count": null,
   "id": "86ca57d0",
   "metadata": {},
   "outputs": [],
   "source": []
  }
 ],
 "metadata": {
  "kernelspec": {
   "display_name": "Python 3 (ipykernel)",
   "language": "python",
   "name": "python3"
  },
  "language_info": {
   "codemirror_mode": {
    "name": "ipython",
    "version": 3
   },
   "file_extension": ".py",
   "mimetype": "text/x-python",
   "name": "python",
   "nbconvert_exporter": "python",
   "pygments_lexer": "ipython3",
   "version": "3.10.8"
  }
 },
 "nbformat": 4,
 "nbformat_minor": 5
}
